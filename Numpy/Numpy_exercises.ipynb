{
 "cells": [
  {
   "cell_type": "code",
   "execution_count": 1,
   "metadata": {},
   "outputs": [],
   "source": [
    "#1. Import the numpy package under the name np\n",
    "import numpy as np"
   ]
  },
  {
   "cell_type": "code",
   "execution_count": 2,
   "metadata": {},
   "outputs": [
    {
     "name": "stdout",
     "output_type": "stream",
     "text": [
      "1.24.3\n"
     ]
    }
   ],
   "source": [
    "#2. Print the numpy version and the configuration\n",
    "print(np.__version__)"
   ]
  },
  {
   "cell_type": "code",
   "execution_count": 7,
   "metadata": {},
   "outputs": [
    {
     "data": {
      "text/plain": [
       "array([0., 0., 0., 0., 0., 0., 0., 0., 0., 0.])"
      ]
     },
     "execution_count": 7,
     "metadata": {},
     "output_type": "execute_result"
    }
   ],
   "source": [
    "#3. Create a null vector of size 10\n",
    "null_vector = np.zeros(10)\n",
    "null_vector"
   ]
  },
  {
   "cell_type": "code",
   "execution_count": 9,
   "metadata": {},
   "outputs": [
    {
     "name": "stdout",
     "output_type": "stream",
     "text": [
      "[[0. 0. 0. 0.]\n",
      " [0. 0. 0. 0.]\n",
      " [0. 0. 0. 0.]]\n",
      "Memory size of the array: 96 bytes\n"
     ]
    }
   ],
   "source": [
    "#4. How to find the memory size of any array\n",
    "\n",
    "# Create an example array\n",
    "my_array = np.zeros((3, 4), dtype=np.float64)\n",
    "print(my_array)\n",
    "\n",
    "# Find the memory size in bytes\n",
    "memory_size = my_array.nbytes\n",
    "\n",
    "print(f\"Memory size of the array: {memory_size} bytes\")\n"
   ]
  },
  {
   "cell_type": "code",
   "execution_count": 10,
   "metadata": {},
   "outputs": [
    {
     "name": "stdout",
     "output_type": "stream",
     "text": [
      "Help on ufunc object:\n",
      "\n",
      "add = class ufunc(builtins.object)\n",
      " |  Functions that operate element by element on whole arrays.\n",
      " |  \n",
      " |  To see the documentation for a specific ufunc, use `info`.  For\n",
      " |  example, ``np.info(np.sin)``.  Because ufuncs are written in C\n",
      " |  (for speed) and linked into Python with NumPy's ufunc facility,\n",
      " |  Python's help() function finds this page whenever help() is called\n",
      " |  on a ufunc.\n",
      " |  \n",
      " |  A detailed explanation of ufuncs can be found in the docs for :ref:`ufuncs`.\n",
      " |  \n",
      " |  **Calling ufuncs:** ``op(*x[, out], where=True, **kwargs)``\n",
      " |  \n",
      " |  Apply `op` to the arguments `*x` elementwise, broadcasting the arguments.\n",
      " |  \n",
      " |  The broadcasting rules are:\n",
      " |  \n",
      " |  * Dimensions of length 1 may be prepended to either array.\n",
      " |  * Arrays may be repeated along dimensions of length 1.\n",
      " |  \n",
      " |  Parameters\n",
      " |  ----------\n",
      " |  *x : array_like\n",
      " |      Input arrays.\n",
      " |  out : ndarray, None, or tuple of ndarray and None, optional\n",
      " |      Alternate array object(s) in which to put the result; if provided, it\n",
      " |      must have a shape that the inputs broadcast to. A tuple of arrays\n",
      " |      (possible only as a keyword argument) must have length equal to the\n",
      " |      number of outputs; use None for uninitialized outputs to be\n",
      " |      allocated by the ufunc.\n",
      " |  where : array_like, optional\n",
      " |      This condition is broadcast over the input. At locations where the\n",
      " |      condition is True, the `out` array will be set to the ufunc result.\n",
      " |      Elsewhere, the `out` array will retain its original value.\n",
      " |      Note that if an uninitialized `out` array is created via the default\n",
      " |      ``out=None``, locations within it where the condition is False will\n",
      " |      remain uninitialized.\n",
      " |  **kwargs\n",
      " |      For other keyword-only arguments, see the :ref:`ufunc docs <ufuncs.kwargs>`.\n",
      " |  \n",
      " |  Returns\n",
      " |  -------\n",
      " |  r : ndarray or tuple of ndarray\n",
      " |      `r` will have the shape that the arrays in `x` broadcast to; if `out` is\n",
      " |      provided, it will be returned. If not, `r` will be allocated and\n",
      " |      may contain uninitialized values. If the function has more than one\n",
      " |      output, then the result will be a tuple of arrays.\n",
      " |  \n",
      " |  Methods defined here:\n",
      " |  \n",
      " |  __call__(self, /, *args, **kwargs)\n",
      " |      Call self as a function.\n",
      " |  \n",
      " |  __repr__(self, /)\n",
      " |      Return repr(self).\n",
      " |  \n",
      " |  __str__(self, /)\n",
      " |      Return str(self).\n",
      " |  \n",
      " |  accumulate(...)\n",
      " |      accumulate(array, axis=0, dtype=None, out=None)\n",
      " |      \n",
      " |      Accumulate the result of applying the operator to all elements.\n",
      " |      \n",
      " |      For a one-dimensional array, accumulate produces results equivalent to::\n",
      " |      \n",
      " |        r = np.empty(len(A))\n",
      " |        t = op.identity        # op = the ufunc being applied to A's  elements\n",
      " |        for i in range(len(A)):\n",
      " |            t = op(t, A[i])\n",
      " |            r[i] = t\n",
      " |        return r\n",
      " |      \n",
      " |      For example, add.accumulate() is equivalent to np.cumsum().\n",
      " |      \n",
      " |      For a multi-dimensional array, accumulate is applied along only one\n",
      " |      axis (axis zero by default; see Examples below) so repeated use is\n",
      " |      necessary if one wants to accumulate over multiple axes.\n",
      " |      \n",
      " |      Parameters\n",
      " |      ----------\n",
      " |      array : array_like\n",
      " |          The array to act on.\n",
      " |      axis : int, optional\n",
      " |          The axis along which to apply the accumulation; default is zero.\n",
      " |      dtype : data-type code, optional\n",
      " |          The data-type used to represent the intermediate results. Defaults\n",
      " |          to the data-type of the output array if such is provided, or the\n",
      " |          data-type of the input array if no output array is provided.\n",
      " |      out : ndarray, None, or tuple of ndarray and None, optional\n",
      " |          A location into which the result is stored. If not provided or None,\n",
      " |          a freshly-allocated array is returned. For consistency with\n",
      " |          ``ufunc.__call__``, if given as a keyword, this may be wrapped in a\n",
      " |          1-element tuple.\n",
      " |      \n",
      " |          .. versionchanged:: 1.13.0\n",
      " |             Tuples are allowed for keyword argument.\n",
      " |      \n",
      " |      Returns\n",
      " |      -------\n",
      " |      r : ndarray\n",
      " |          The accumulated values. If `out` was supplied, `r` is a reference to\n",
      " |          `out`.\n",
      " |      \n",
      " |      Examples\n",
      " |      --------\n",
      " |      1-D array examples:\n",
      " |      \n",
      " |      >>> np.add.accumulate([2, 3, 5])\n",
      " |      array([ 2,  5, 10])\n",
      " |      >>> np.multiply.accumulate([2, 3, 5])\n",
      " |      array([ 2,  6, 30])\n",
      " |      \n",
      " |      2-D array examples:\n",
      " |      \n",
      " |      >>> I = np.eye(2)\n",
      " |      >>> I\n",
      " |      array([[1.,  0.],\n",
      " |             [0.,  1.]])\n",
      " |      \n",
      " |      Accumulate along axis 0 (rows), down columns:\n",
      " |      \n",
      " |      >>> np.add.accumulate(I, 0)\n",
      " |      array([[1.,  0.],\n",
      " |             [1.,  1.]])\n",
      " |      >>> np.add.accumulate(I) # no axis specified = axis zero\n",
      " |      array([[1.,  0.],\n",
      " |             [1.,  1.]])\n",
      " |      \n",
      " |      Accumulate along axis 1 (columns), through rows:\n",
      " |      \n",
      " |      >>> np.add.accumulate(I, 1)\n",
      " |      array([[1.,  1.],\n",
      " |             [0.,  1.]])\n",
      " |  \n",
      " |  at(...)\n",
      " |      at(a, indices, b=None, /)\n",
      " |      \n",
      " |      Performs unbuffered in place operation on operand 'a' for elements\n",
      " |      specified by 'indices'. For addition ufunc, this method is equivalent to\n",
      " |      ``a[indices] += b``, except that results are accumulated for elements that\n",
      " |      are indexed more than once. For example, ``a[[0,0]] += 1`` will only\n",
      " |      increment the first element once because of buffering, whereas\n",
      " |      ``add.at(a, [0,0], 1)`` will increment the first element twice.\n",
      " |      \n",
      " |      .. versionadded:: 1.8.0\n",
      " |      \n",
      " |      Parameters\n",
      " |      ----------\n",
      " |      a : array_like\n",
      " |          The array to perform in place operation on.\n",
      " |      indices : array_like or tuple\n",
      " |          Array like index object or slice object for indexing into first\n",
      " |          operand. If first operand has multiple dimensions, indices can be a\n",
      " |          tuple of array like index objects or slice objects.\n",
      " |      b : array_like\n",
      " |          Second operand for ufuncs requiring two operands. Operand must be\n",
      " |          broadcastable over first operand after indexing or slicing.\n",
      " |      \n",
      " |      Examples\n",
      " |      --------\n",
      " |      Set items 0 and 1 to their negative values:\n",
      " |      \n",
      " |      >>> a = np.array([1, 2, 3, 4])\n",
      " |      >>> np.negative.at(a, [0, 1])\n",
      " |      >>> a\n",
      " |      array([-1, -2,  3,  4])\n",
      " |      \n",
      " |      Increment items 0 and 1, and increment item 2 twice:\n",
      " |      \n",
      " |      >>> a = np.array([1, 2, 3, 4])\n",
      " |      >>> np.add.at(a, [0, 1, 2, 2], 1)\n",
      " |      >>> a\n",
      " |      array([2, 3, 5, 4])\n",
      " |      \n",
      " |      Add items 0 and 1 in first array to second array,\n",
      " |      and store results in first array:\n",
      " |      \n",
      " |      >>> a = np.array([1, 2, 3, 4])\n",
      " |      >>> b = np.array([1, 2])\n",
      " |      >>> np.add.at(a, [0, 1], b)\n",
      " |      >>> a\n",
      " |      array([2, 4, 3, 4])\n",
      " |  \n",
      " |  outer(...)\n",
      " |      outer(A, B, /, **kwargs)\n",
      " |      \n",
      " |      Apply the ufunc `op` to all pairs (a, b) with a in `A` and b in `B`.\n",
      " |      \n",
      " |      Let ``M = A.ndim``, ``N = B.ndim``. Then the result, `C`, of\n",
      " |      ``op.outer(A, B)`` is an array of dimension M + N such that:\n",
      " |      \n",
      " |      .. math:: C[i_0, ..., i_{M-1}, j_0, ..., j_{N-1}] =\n",
      " |         op(A[i_0, ..., i_{M-1}], B[j_0, ..., j_{N-1}])\n",
      " |      \n",
      " |      For `A` and `B` one-dimensional, this is equivalent to::\n",
      " |      \n",
      " |        r = empty(len(A),len(B))\n",
      " |        for i in range(len(A)):\n",
      " |            for j in range(len(B)):\n",
      " |                r[i,j] = op(A[i], B[j])  # op = ufunc in question\n",
      " |      \n",
      " |      Parameters\n",
      " |      ----------\n",
      " |      A : array_like\n",
      " |          First array\n",
      " |      B : array_like\n",
      " |          Second array\n",
      " |      kwargs : any\n",
      " |          Arguments to pass on to the ufunc. Typically `dtype` or `out`.\n",
      " |          See `ufunc` for a comprehensive overview of all available arguments.\n",
      " |      \n",
      " |      Returns\n",
      " |      -------\n",
      " |      r : ndarray\n",
      " |          Output array\n",
      " |      \n",
      " |      See Also\n",
      " |      --------\n",
      " |      numpy.outer : A less powerful version of ``np.multiply.outer``\n",
      " |                    that `ravel`\\ s all inputs to 1D. This exists\n",
      " |                    primarily for compatibility with old code.\n",
      " |      \n",
      " |      tensordot : ``np.tensordot(a, b, axes=((), ()))`` and\n",
      " |                  ``np.multiply.outer(a, b)`` behave same for all\n",
      " |                  dimensions of a and b.\n",
      " |      \n",
      " |      Examples\n",
      " |      --------\n",
      " |      >>> np.multiply.outer([1, 2, 3], [4, 5, 6])\n",
      " |      array([[ 4,  5,  6],\n",
      " |             [ 8, 10, 12],\n",
      " |             [12, 15, 18]])\n",
      " |      \n",
      " |      A multi-dimensional example:\n",
      " |      \n",
      " |      >>> A = np.array([[1, 2, 3], [4, 5, 6]])\n",
      " |      >>> A.shape\n",
      " |      (2, 3)\n",
      " |      >>> B = np.array([[1, 2, 3, 4]])\n",
      " |      >>> B.shape\n",
      " |      (1, 4)\n",
      " |      >>> C = np.multiply.outer(A, B)\n",
      " |      >>> C.shape; C\n",
      " |      (2, 3, 1, 4)\n",
      " |      array([[[[ 1,  2,  3,  4]],\n",
      " |              [[ 2,  4,  6,  8]],\n",
      " |              [[ 3,  6,  9, 12]]],\n",
      " |             [[[ 4,  8, 12, 16]],\n",
      " |              [[ 5, 10, 15, 20]],\n",
      " |              [[ 6, 12, 18, 24]]]])\n",
      " |  \n",
      " |  reduce(...)\n",
      " |      reduce(array, axis=0, dtype=None, out=None, keepdims=False, initial=<no value>, where=True)\n",
      " |      \n",
      " |      Reduces `array`'s dimension by one, by applying ufunc along one axis.\n",
      " |      \n",
      " |      Let :math:`array.shape = (N_0, ..., N_i, ..., N_{M-1})`.  Then\n",
      " |      :math:`ufunc.reduce(array, axis=i)[k_0, ..,k_{i-1}, k_{i+1}, .., k_{M-1}]` =\n",
      " |      the result of iterating `j` over :math:`range(N_i)`, cumulatively applying\n",
      " |      ufunc to each :math:`array[k_0, ..,k_{i-1}, j, k_{i+1}, .., k_{M-1}]`.\n",
      " |      For a one-dimensional array, reduce produces results equivalent to:\n",
      " |      ::\n",
      " |      \n",
      " |       r = op.identity # op = ufunc\n",
      " |       for i in range(len(A)):\n",
      " |         r = op(r, A[i])\n",
      " |       return r\n",
      " |      \n",
      " |      For example, add.reduce() is equivalent to sum().\n",
      " |      \n",
      " |      Parameters\n",
      " |      ----------\n",
      " |      array : array_like\n",
      " |          The array to act on.\n",
      " |      axis : None or int or tuple of ints, optional\n",
      " |          Axis or axes along which a reduction is performed.\n",
      " |          The default (`axis` = 0) is perform a reduction over the first\n",
      " |          dimension of the input array. `axis` may be negative, in\n",
      " |          which case it counts from the last to the first axis.\n",
      " |      \n",
      " |          .. versionadded:: 1.7.0\n",
      " |      \n",
      " |          If this is None, a reduction is performed over all the axes.\n",
      " |          If this is a tuple of ints, a reduction is performed on multiple\n",
      " |          axes, instead of a single axis or all the axes as before.\n",
      " |      \n",
      " |          For operations which are either not commutative or not associative,\n",
      " |          doing a reduction over multiple axes is not well-defined. The\n",
      " |          ufuncs do not currently raise an exception in this case, but will\n",
      " |          likely do so in the future.\n",
      " |      dtype : data-type code, optional\n",
      " |          The type used to represent the intermediate results. Defaults\n",
      " |          to the data-type of the output array if this is provided, or\n",
      " |          the data-type of the input array if no output array is provided.\n",
      " |      out : ndarray, None, or tuple of ndarray and None, optional\n",
      " |          A location into which the result is stored. If not provided or None,\n",
      " |          a freshly-allocated array is returned. For consistency with\n",
      " |          ``ufunc.__call__``, if given as a keyword, this may be wrapped in a\n",
      " |          1-element tuple.\n",
      " |      \n",
      " |          .. versionchanged:: 1.13.0\n",
      " |             Tuples are allowed for keyword argument.\n",
      " |      keepdims : bool, optional\n",
      " |          If this is set to True, the axes which are reduced are left\n",
      " |          in the result as dimensions with size one. With this option,\n",
      " |          the result will broadcast correctly against the original `array`.\n",
      " |      \n",
      " |          .. versionadded:: 1.7.0\n",
      " |      initial : scalar, optional\n",
      " |          The value with which to start the reduction.\n",
      " |          If the ufunc has no identity or the dtype is object, this defaults\n",
      " |          to None - otherwise it defaults to ufunc.identity.\n",
      " |          If ``None`` is given, the first element of the reduction is used,\n",
      " |          and an error is thrown if the reduction is empty.\n",
      " |      \n",
      " |          .. versionadded:: 1.15.0\n",
      " |      \n",
      " |      where : array_like of bool, optional\n",
      " |          A boolean array which is broadcasted to match the dimensions\n",
      " |          of `array`, and selects elements to include in the reduction. Note\n",
      " |          that for ufuncs like ``minimum`` that do not have an identity\n",
      " |          defined, one has to pass in also ``initial``.\n",
      " |      \n",
      " |          .. versionadded:: 1.17.0\n",
      " |      \n",
      " |      Returns\n",
      " |      -------\n",
      " |      r : ndarray\n",
      " |          The reduced array. If `out` was supplied, `r` is a reference to it.\n",
      " |      \n",
      " |      Examples\n",
      " |      --------\n",
      " |      >>> np.multiply.reduce([2,3,5])\n",
      " |      30\n",
      " |      \n",
      " |      A multi-dimensional array example:\n",
      " |      \n",
      " |      >>> X = np.arange(8).reshape((2,2,2))\n",
      " |      >>> X\n",
      " |      array([[[0, 1],\n",
      " |              [2, 3]],\n",
      " |             [[4, 5],\n",
      " |              [6, 7]]])\n",
      " |      >>> np.add.reduce(X, 0)\n",
      " |      array([[ 4,  6],\n",
      " |             [ 8, 10]])\n",
      " |      >>> np.add.reduce(X) # confirm: default axis value is 0\n",
      " |      array([[ 4,  6],\n",
      " |             [ 8, 10]])\n",
      " |      >>> np.add.reduce(X, 1)\n",
      " |      array([[ 2,  4],\n",
      " |             [10, 12]])\n",
      " |      >>> np.add.reduce(X, 2)\n",
      " |      array([[ 1,  5],\n",
      " |             [ 9, 13]])\n",
      " |      \n",
      " |      You can use the ``initial`` keyword argument to initialize the reduction\n",
      " |      with a different value, and ``where`` to select specific elements to include:\n",
      " |      \n",
      " |      >>> np.add.reduce([10], initial=5)\n",
      " |      15\n",
      " |      >>> np.add.reduce(np.ones((2, 2, 2)), axis=(0, 2), initial=10)\n",
      " |      array([14., 14.])\n",
      " |      >>> a = np.array([10., np.nan, 10])\n",
      " |      >>> np.add.reduce(a, where=~np.isnan(a))\n",
      " |      20.0\n",
      " |      \n",
      " |      Allows reductions of empty arrays where they would normally fail, i.e.\n",
      " |      for ufuncs without an identity.\n",
      " |      \n",
      " |      >>> np.minimum.reduce([], initial=np.inf)\n",
      " |      inf\n",
      " |      >>> np.minimum.reduce([[1., 2.], [3., 4.]], initial=10., where=[True, False])\n",
      " |      array([ 1., 10.])\n",
      " |      >>> np.minimum.reduce([])\n",
      " |      Traceback (most recent call last):\n",
      " |          ...\n",
      " |      ValueError: zero-size array to reduction operation minimum which has no identity\n",
      " |  \n",
      " |  reduceat(...)\n",
      " |      reduceat(array, indices, axis=0, dtype=None, out=None)\n",
      " |      \n",
      " |      Performs a (local) reduce with specified slices over a single axis.\n",
      " |      \n",
      " |      For i in ``range(len(indices))``, `reduceat` computes\n",
      " |      ``ufunc.reduce(array[indices[i]:indices[i+1]])``, which becomes the i-th\n",
      " |      generalized \"row\" parallel to `axis` in the final result (i.e., in a\n",
      " |      2-D array, for example, if `axis = 0`, it becomes the i-th row, but if\n",
      " |      `axis = 1`, it becomes the i-th column).  There are three exceptions to this:\n",
      " |      \n",
      " |      * when ``i = len(indices) - 1`` (so for the last index),\n",
      " |        ``indices[i+1] = array.shape[axis]``.\n",
      " |      * if ``indices[i] >= indices[i + 1]``, the i-th generalized \"row\" is\n",
      " |        simply ``array[indices[i]]``.\n",
      " |      * if ``indices[i] >= len(array)`` or ``indices[i] < 0``, an error is raised.\n",
      " |      \n",
      " |      The shape of the output depends on the size of `indices`, and may be\n",
      " |      larger than `array` (this happens if ``len(indices) > array.shape[axis]``).\n",
      " |      \n",
      " |      Parameters\n",
      " |      ----------\n",
      " |      array : array_like\n",
      " |          The array to act on.\n",
      " |      indices : array_like\n",
      " |          Paired indices, comma separated (not colon), specifying slices to\n",
      " |          reduce.\n",
      " |      axis : int, optional\n",
      " |          The axis along which to apply the reduceat.\n",
      " |      dtype : data-type code, optional\n",
      " |          The type used to represent the intermediate results. Defaults\n",
      " |          to the data type of the output array if this is provided, or\n",
      " |          the data type of the input array if no output array is provided.\n",
      " |      out : ndarray, None, or tuple of ndarray and None, optional\n",
      " |          A location into which the result is stored. If not provided or None,\n",
      " |          a freshly-allocated array is returned. For consistency with\n",
      " |          ``ufunc.__call__``, if given as a keyword, this may be wrapped in a\n",
      " |          1-element tuple.\n",
      " |      \n",
      " |          .. versionchanged:: 1.13.0\n",
      " |             Tuples are allowed for keyword argument.\n",
      " |      \n",
      " |      Returns\n",
      " |      -------\n",
      " |      r : ndarray\n",
      " |          The reduced values. If `out` was supplied, `r` is a reference to\n",
      " |          `out`.\n",
      " |      \n",
      " |      Notes\n",
      " |      -----\n",
      " |      A descriptive example:\n",
      " |      \n",
      " |      If `array` is 1-D, the function `ufunc.accumulate(array)` is the same as\n",
      " |      ``ufunc.reduceat(array, indices)[::2]`` where `indices` is\n",
      " |      ``range(len(array) - 1)`` with a zero placed\n",
      " |      in every other element:\n",
      " |      ``indices = zeros(2 * len(array) - 1)``,\n",
      " |      ``indices[1::2] = range(1, len(array))``.\n",
      " |      \n",
      " |      Don't be fooled by this attribute's name: `reduceat(array)` is not\n",
      " |      necessarily smaller than `array`.\n",
      " |      \n",
      " |      Examples\n",
      " |      --------\n",
      " |      To take the running sum of four successive values:\n",
      " |      \n",
      " |      >>> np.add.reduceat(np.arange(8),[0,4, 1,5, 2,6, 3,7])[::2]\n",
      " |      array([ 6, 10, 14, 18])\n",
      " |      \n",
      " |      A 2-D example:\n",
      " |      \n",
      " |      >>> x = np.linspace(0, 15, 16).reshape(4,4)\n",
      " |      >>> x\n",
      " |      array([[ 0.,   1.,   2.,   3.],\n",
      " |             [ 4.,   5.,   6.,   7.],\n",
      " |             [ 8.,   9.,  10.,  11.],\n",
      " |             [12.,  13.,  14.,  15.]])\n",
      " |      \n",
      " |      ::\n",
      " |      \n",
      " |       # reduce such that the result has the following five rows:\n",
      " |       # [row1 + row2 + row3]\n",
      " |       # [row4]\n",
      " |       # [row2]\n",
      " |       # [row3]\n",
      " |       # [row1 + row2 + row3 + row4]\n",
      " |      \n",
      " |      >>> np.add.reduceat(x, [0, 3, 1, 2, 0])\n",
      " |      array([[12.,  15.,  18.,  21.],\n",
      " |             [12.,  13.,  14.,  15.],\n",
      " |             [ 4.,   5.,   6.,   7.],\n",
      " |             [ 8.,   9.,  10.,  11.],\n",
      " |             [24.,  28.,  32.,  36.]])\n",
      " |      \n",
      " |      ::\n",
      " |      \n",
      " |       # reduce such that result has the following two columns:\n",
      " |       # [col1 * col2 * col3, col4]\n",
      " |      \n",
      " |      >>> np.multiply.reduceat(x, [0, 3], 1)\n",
      " |      array([[   0.,     3.],\n",
      " |             [ 120.,     7.],\n",
      " |             [ 720.,    11.],\n",
      " |             [2184.,    15.]])\n",
      " |  \n",
      " |  resolve_dtypes(...)\n",
      " |      resolve_dtypes(dtypes, *, signature=None, casting=None, reduction=False)\n",
      " |      \n",
      " |      Find the dtypes NumPy will use for the operation.  Both input and\n",
      " |      output dtypes are returned and may differ from those provided.\n",
      " |      \n",
      " |      .. note::\n",
      " |      \n",
      " |          This function always applies NEP 50 rules since it is not provided\n",
      " |          any actual values.  The Python types ``int``, ``float``, and\n",
      " |          ``complex`` thus behave weak and should be passed for \"untyped\"\n",
      " |          Python input.\n",
      " |      \n",
      " |      Parameters\n",
      " |      ----------\n",
      " |      dtypes : tuple of dtypes, None, or literal int, float, complex\n",
      " |          The input dtypes for each operand.  Output operands can be\n",
      " |          None, indicating that the dtype must be found.\n",
      " |      signature : tuple of DTypes or None, optional\n",
      " |          If given, enforces exact DType (classes) of the specific operand.\n",
      " |          The ufunc ``dtype`` argument is equivalent to passing a tuple with\n",
      " |          only output dtypes set.\n",
      " |      casting : {'no', 'equiv', 'safe', 'same_kind', 'unsafe'}, optional\n",
      " |          The casting mode when casting is necessary.  This is identical to\n",
      " |          the ufunc call casting modes.\n",
      " |      reduction : boolean\n",
      " |          If given, the resolution assumes a reduce operation is happening\n",
      " |          which slightly changes the promotion and type resolution rules.\n",
      " |          `dtypes` is usually something like ``(None, np.dtype(\"i2\"), None)``\n",
      " |          for reductions (first input is also the output).\n",
      " |      \n",
      " |          .. note::\n",
      " |      \n",
      " |              The default casting mode is \"same_kind\", however, as of\n",
      " |              NumPy 1.24, NumPy uses \"unsafe\" for reductions.\n",
      " |      \n",
      " |      Returns\n",
      " |      -------\n",
      " |      dtypes : tuple of dtypes\n",
      " |          The dtypes which NumPy would use for the calculation.  Note that\n",
      " |          dtypes may not match the passed in ones (casting is necessary).\n",
      " |      \n",
      " |      See Also\n",
      " |      --------\n",
      " |      numpy.ufunc._resolve_dtypes_and_context :\n",
      " |          Similar function to this, but returns additional information which\n",
      " |          give access to the core C functionality of NumPy.\n",
      " |      \n",
      " |      Examples\n",
      " |      --------\n",
      " |      This API requires passing dtypes, define them for convenience:\n",
      " |      \n",
      " |      >>> int32 = np.dtype(\"int32\")\n",
      " |      >>> float32 = np.dtype(\"float32\")\n",
      " |      \n",
      " |      The typical ufunc call does not pass an output dtype.  `np.add` has two\n",
      " |      inputs and one output, so leave the output as ``None`` (not provided):\n",
      " |      \n",
      " |      >>> np.add.resolve_dtypes((int32, float32, None))\n",
      " |      (dtype('float64'), dtype('float64'), dtype('float64'))\n",
      " |      \n",
      " |      The loop found uses \"float64\" for all operands (including the output), the\n",
      " |      first input would be cast.\n",
      " |      \n",
      " |      ``resolve_dtypes`` supports \"weak\" handling for Python scalars by passing\n",
      " |      ``int``, ``float``, or ``complex``:\n",
      " |      \n",
      " |      >>> np.add.resolve_dtypes((float32, float, None))\n",
      " |      (dtype('float32'), dtype('float32'), dtype('float32'))\n",
      " |      \n",
      " |      Where the Python ``float`` behaves samilar to a Python value ``0.0``\n",
      " |      in a ufunc call.  (See :ref:`NEP 50 <NEP50>` for details.)\n",
      " |  \n",
      " |  ----------------------------------------------------------------------\n",
      " |  Data descriptors defined here:\n",
      " |  \n",
      " |  identity\n",
      " |      The identity value.\n",
      " |      \n",
      " |      Data attribute containing the identity element for the ufunc, if it has one.\n",
      " |      If it does not, the attribute value is None.\n",
      " |      \n",
      " |      Examples\n",
      " |      --------\n",
      " |      >>> np.add.identity\n",
      " |      0\n",
      " |      >>> np.multiply.identity\n",
      " |      1\n",
      " |      >>> np.power.identity\n",
      " |      1\n",
      " |      >>> print(np.exp.identity)\n",
      " |      None\n",
      " |  \n",
      " |  nargs\n",
      " |      The number of arguments.\n",
      " |      \n",
      " |      Data attribute containing the number of arguments the ufunc takes, including\n",
      " |      optional ones.\n",
      " |      \n",
      " |      Notes\n",
      " |      -----\n",
      " |      Typically this value will be one more than what you might expect because all\n",
      " |      ufuncs take  the optional \"out\" argument.\n",
      " |      \n",
      " |      Examples\n",
      " |      --------\n",
      " |      >>> np.add.nargs\n",
      " |      3\n",
      " |      >>> np.multiply.nargs\n",
      " |      3\n",
      " |      >>> np.power.nargs\n",
      " |      3\n",
      " |      >>> np.exp.nargs\n",
      " |      2\n",
      " |  \n",
      " |  nin\n",
      " |      The number of inputs.\n",
      " |      \n",
      " |      Data attribute containing the number of arguments the ufunc treats as input.\n",
      " |      \n",
      " |      Examples\n",
      " |      --------\n",
      " |      >>> np.add.nin\n",
      " |      2\n",
      " |      >>> np.multiply.nin\n",
      " |      2\n",
      " |      >>> np.power.nin\n",
      " |      2\n",
      " |      >>> np.exp.nin\n",
      " |      1\n",
      " |  \n",
      " |  nout\n",
      " |      The number of outputs.\n",
      " |      \n",
      " |      Data attribute containing the number of arguments the ufunc treats as output.\n",
      " |      \n",
      " |      Notes\n",
      " |      -----\n",
      " |      Since all ufuncs can take output arguments, this will always be (at least) 1.\n",
      " |      \n",
      " |      Examples\n",
      " |      --------\n",
      " |      >>> np.add.nout\n",
      " |      1\n",
      " |      >>> np.multiply.nout\n",
      " |      1\n",
      " |      >>> np.power.nout\n",
      " |      1\n",
      " |      >>> np.exp.nout\n",
      " |      1\n",
      " |  \n",
      " |  ntypes\n",
      " |      The number of types.\n",
      " |      \n",
      " |      The number of numerical NumPy types - of which there are 18 total - on which\n",
      " |      the ufunc can operate.\n",
      " |      \n",
      " |      See Also\n",
      " |      --------\n",
      " |      numpy.ufunc.types\n",
      " |      \n",
      " |      Examples\n",
      " |      --------\n",
      " |      >>> np.add.ntypes\n",
      " |      18\n",
      " |      >>> np.multiply.ntypes\n",
      " |      18\n",
      " |      >>> np.power.ntypes\n",
      " |      17\n",
      " |      >>> np.exp.ntypes\n",
      " |      7\n",
      " |      >>> np.remainder.ntypes\n",
      " |      14\n",
      " |  \n",
      " |  signature\n",
      " |      Definition of the core elements a generalized ufunc operates on.\n",
      " |      \n",
      " |      The signature determines how the dimensions of each input/output array\n",
      " |      are split into core and loop dimensions:\n",
      " |      \n",
      " |      1. Each dimension in the signature is matched to a dimension of the\n",
      " |         corresponding passed-in array, starting from the end of the shape tuple.\n",
      " |      2. Core dimensions assigned to the same label in the signature must have\n",
      " |         exactly matching sizes, no broadcasting is performed.\n",
      " |      3. The core dimensions are removed from all inputs and the remaining\n",
      " |         dimensions are broadcast together, defining the loop dimensions.\n",
      " |      \n",
      " |      Notes\n",
      " |      -----\n",
      " |      Generalized ufuncs are used internally in many linalg functions, and in\n",
      " |      the testing suite; the examples below are taken from these.\n",
      " |      For ufuncs that operate on scalars, the signature is None, which is\n",
      " |      equivalent to '()' for every argument.\n",
      " |      \n",
      " |      Examples\n",
      " |      --------\n",
      " |      >>> np.core.umath_tests.matrix_multiply.signature\n",
      " |      '(m,n),(n,p)->(m,p)'\n",
      " |      >>> np.linalg._umath_linalg.det.signature\n",
      " |      '(m,m)->()'\n",
      " |      >>> np.add.signature is None\n",
      " |      True  # equivalent to '(),()->()'\n",
      " |  \n",
      " |  types\n",
      " |      Returns a list with types grouped input->output.\n",
      " |      \n",
      " |      Data attribute listing the data-type \"Domain-Range\" groupings the ufunc can\n",
      " |      deliver. The data-types are given using the character codes.\n",
      " |      \n",
      " |      See Also\n",
      " |      --------\n",
      " |      numpy.ufunc.ntypes\n",
      " |      \n",
      " |      Examples\n",
      " |      --------\n",
      " |      >>> np.add.types\n",
      " |      ['??->?', 'bb->b', 'BB->B', 'hh->h', 'HH->H', 'ii->i', 'II->I', 'll->l',\n",
      " |      'LL->L', 'qq->q', 'QQ->Q', 'ff->f', 'dd->d', 'gg->g', 'FF->F', 'DD->D',\n",
      " |      'GG->G', 'OO->O']\n",
      " |      \n",
      " |      >>> np.multiply.types\n",
      " |      ['??->?', 'bb->b', 'BB->B', 'hh->h', 'HH->H', 'ii->i', 'II->I', 'll->l',\n",
      " |      'LL->L', 'qq->q', 'QQ->Q', 'ff->f', 'dd->d', 'gg->g', 'FF->F', 'DD->D',\n",
      " |      'GG->G', 'OO->O']\n",
      " |      \n",
      " |      >>> np.power.types\n",
      " |      ['bb->b', 'BB->B', 'hh->h', 'HH->H', 'ii->i', 'II->I', 'll->l', 'LL->L',\n",
      " |      'qq->q', 'QQ->Q', 'ff->f', 'dd->d', 'gg->g', 'FF->F', 'DD->D', 'GG->G',\n",
      " |      'OO->O']\n",
      " |      \n",
      " |      >>> np.exp.types\n",
      " |      ['f->f', 'd->d', 'g->g', 'F->F', 'D->D', 'G->G', 'O->O']\n",
      " |      \n",
      " |      >>> np.remainder.types\n",
      " |      ['bb->b', 'BB->B', 'hh->h', 'HH->H', 'ii->i', 'II->I', 'll->l', 'LL->L',\n",
      " |      'qq->q', 'QQ->Q', 'ff->f', 'dd->d', 'gg->g', 'OO->O']\n",
      "\n"
     ]
    }
   ],
   "source": [
    "#5. How to get the documentation of the numpy add function from the command line?\n",
    "#activate your environment and activate python in command line.\n",
    "#then run help(np.add). \n",
    "#Here in vs code, we already activate our kernel and we have imported numpy\n",
    "help(np.add)\n"
   ]
  },
  {
   "cell_type": "code",
   "execution_count": 11,
   "metadata": {},
   "outputs": [
    {
     "name": "stdout",
     "output_type": "stream",
     "text": [
      "[0. 0. 0. 0. 1. 0. 0. 0. 0. 0.]\n"
     ]
    }
   ],
   "source": [
    "#6. Create a null vector of size 10 but the fifth value which is 1\n",
    "null_vector = np.zeros(10)\n",
    "null_vector[4] = 1\n",
    "\n",
    "print(null_vector)"
   ]
  },
  {
   "cell_type": "code",
   "execution_count": 13,
   "metadata": {},
   "outputs": [
    {
     "data": {
      "text/plain": [
       "array([10, 11, 12, 13, 14, 15, 16, 17, 18, 19, 20, 21, 22, 23, 24, 25, 26,\n",
       "       27, 28, 29, 30, 31, 32, 33, 34, 35, 36, 37, 38, 39, 40, 41, 42, 43,\n",
       "       44, 45, 46, 47, 48, 49])"
      ]
     },
     "execution_count": 13,
     "metadata": {},
     "output_type": "execute_result"
    }
   ],
   "source": [
    "#7. Create a vector with values ranging from 10 to 49\n",
    "vec = np.arange(10,50,1)\n",
    "vec"
   ]
  },
  {
   "cell_type": "code",
   "execution_count": 15,
   "metadata": {},
   "outputs": [
    {
     "name": "stdout",
     "output_type": "stream",
     "text": [
      "[5 4 3 2 1]\n",
      "[49 48 47 46 45 44 43 42 41 40 39 38 37 36 35 34 33 32 31 30 29 28 27 26\n",
      " 25 24 23 22 21 20 19 18 17 16 15 14 13 12 11 10]\n"
     ]
    }
   ],
   "source": [
    "#8. Reverse a vector (first element becomes last)\n",
    "original_vector = np.array([1, 2, 3, 4, 5])\n",
    "\n",
    "reversed_vector = original_vector[::-1]\n",
    "\n",
    "print(reversed_vector)\n",
    "\n",
    "#trying to reverse #7\n",
    "print(vec[::-1]) "
   ]
  },
  {
   "cell_type": "code",
   "execution_count": 23,
   "metadata": {},
   "outputs": [
    {
     "name": "stdout",
     "output_type": "stream",
     "text": [
      "[[0 1 2]\n",
      " [3 4 5]\n",
      " [6 7 8]]\n",
      "[[0 1 2]\n",
      " [3 4 5]\n",
      " [6 7 8]]\n"
     ]
    }
   ],
   "source": [
    "#9. Create a 3x3 matrix with values ranging from 0 to 8\n",
    "matrix_3_3 = np.array([[0, 1, 2],\n",
    "                       [3, 4, 5],\n",
    "                       [6, 7, 8]])\n",
    "print(matrix_3_3)\n",
    "\n",
    "#alternatively\n",
    "matrix = np.arange(9).reshape(3,3)\n",
    "print(matrix)"
   ]
  },
  {
   "cell_type": "code",
   "execution_count": 24,
   "metadata": {},
   "outputs": [
    {
     "name": "stdout",
     "output_type": "stream",
     "text": [
      "(array([0, 1, 4]),)\n"
     ]
    }
   ],
   "source": [
    "#10. Find indices of non-zero elements from [1,2,0,0,4,0]\n",
    "arr = np.array([1, 2, 0, 0, 4, 0])\n",
    "\n",
    "nonzero_indices = np.nonzero(arr)\n",
    "\n",
    "print(nonzero_indices)"
   ]
  },
  {
   "cell_type": "code",
   "execution_count": 33,
   "metadata": {},
   "outputs": [
    {
     "name": "stdout",
     "output_type": "stream",
     "text": [
      "[[1. 0. 0.]\n",
      " [0. 1. 0.]\n",
      " [0. 0. 1.]]\n"
     ]
    }
   ],
   "source": [
    "#11. Create a 3x3 identity matrix\n",
    "id_mat_eye = np.eye(3)\n",
    "print(id_mat_eye)\n"
   ]
  },
  {
   "cell_type": "code",
   "execution_count": 37,
   "metadata": {},
   "outputs": [
    {
     "data": {
      "text/plain": [
       "array([[[0.40868916, 0.27315508, 0.02156654],\n",
       "        [0.18227914, 0.32856822, 0.47348579],\n",
       "        [0.98189079, 0.04118374, 0.21291362]],\n",
       "\n",
       "       [[0.36937218, 0.91145429, 0.76496059],\n",
       "        [0.82302614, 0.43606957, 0.00349918],\n",
       "        [0.50505768, 0.03805277, 0.13052213]],\n",
       "\n",
       "       [[0.4466751 , 0.14254803, 0.10948844],\n",
       "        [0.37337189, 0.04640682, 0.40327872],\n",
       "        [0.62705992, 0.91301147, 0.39035351]]])"
      ]
     },
     "execution_count": 37,
     "metadata": {},
     "output_type": "execute_result"
    }
   ],
   "source": [
    "#12. Create a 3x3x3 array with random values\n",
    "random_mat = np.random.rand(3,3,3)\n",
    "random_mat"
   ]
  },
  {
   "cell_type": "code",
   "execution_count": 43,
   "metadata": {},
   "outputs": [
    {
     "name": "stdout",
     "output_type": "stream",
     "text": [
      "[[0.54288975 0.06082503 0.56024522 0.90217105 0.64933676 0.1038325\n",
      "  0.13065881 0.35245601 0.97511738 0.38351802]\n",
      " [0.58361094 0.70692217 0.24567269 0.18948215 0.03573551 0.74762983\n",
      "  0.67349608 0.34283669 0.84745766 0.17378097]\n",
      " [0.70316582 0.98472423 0.08967998 0.68668289 0.25842438 0.24282001\n",
      "  0.3587404  0.58180352 0.3002354  0.45807954]\n",
      " [0.56270391 0.82931454 0.78280025 0.41748039 0.77437667 0.53100839\n",
      "  0.69101079 0.83904484 0.03545213 0.45299916]\n",
      " [0.90662151 0.78214734 0.86501695 0.66150266 0.91636487 0.66396069\n",
      "  0.90484322 0.60598413 0.62768255 0.89786218]\n",
      " [0.84955051 0.80990965 0.83321356 0.07966633 0.11503739 0.80872539\n",
      "  0.55217599 0.73149342 0.87739176 0.25185919]\n",
      " [0.54204083 0.12062515 0.65222734 0.33978416 0.00922623 0.03754318\n",
      "  0.07516187 0.45867761 0.98487434 0.59630443]\n",
      " [0.41022258 0.43305241 0.75470896 0.60999104 0.72834107 0.86429639\n",
      "  0.21868316 0.31284743 0.45457236 0.04213338]\n",
      " [0.07901265 0.78701411 0.371325   0.9872461  0.24868144 0.25439846\n",
      "  0.20370581 0.96357696 0.88074875 0.61362066]\n",
      " [0.25398472 0.62272121 0.41823571 0.91745553 0.55924648 0.76863221\n",
      "  0.92328108 0.30159411 0.81400288 0.16846741]]\n",
      "0.009226232411191249\n",
      "0.9872460992253834\n"
     ]
    }
   ],
   "source": [
    "#13. Create a 10x10 array with random values and find the minimum and maximum values\n",
    "array_10_10 = np.random.rand(10,10)\n",
    "print(array_10_10)\n",
    "min_value = np.min(array_10_10)\n",
    "max_value = np.max(array_10_10)\n",
    "print(min_value)\n",
    "print(max_value)"
   ]
  },
  {
   "cell_type": "code",
   "execution_count": 45,
   "metadata": {},
   "outputs": [
    {
     "name": "stdout",
     "output_type": "stream",
     "text": [
      "[0.26198762 0.16198917 0.63109114 0.99851813 0.68923709 0.98272464\n",
      " 0.67059643 0.59886204 0.61838556 0.07555584 0.3961562  0.44888809\n",
      " 0.26349231 0.25888526 0.08790828 0.57338913 0.81812231 0.48853223\n",
      " 0.57389623 0.99747921 0.3587949  0.69041193 0.36106588 0.23175987\n",
      " 0.42467168 0.50503343 0.93865289 0.58948535 0.32910304 0.83617762]\n",
      "0.5286951165932684\n"
     ]
    }
   ],
   "source": [
    "#14.  Create a random vector of size 30 and find the mean value\n",
    "rand_vec = np.random.rand(30)\n",
    "print(rand_vec)\n",
    "mean_val = np.mean(rand_vec)\n",
    "print(mean_val)"
   ]
  },
  {
   "cell_type": "code",
   "execution_count": 55,
   "metadata": {},
   "outputs": [
    {
     "name": "stdout",
     "output_type": "stream",
     "text": [
      "[[1. 1. 1. 1. 1.]\n",
      " [1. 0. 0. 0. 1.]\n",
      " [1. 0. 0. 0. 1.]\n",
      " [1. 0. 0. 0. 1.]\n",
      " [1. 1. 1. 1. 1.]]\n",
      "[[1. 1. 1. 1. 1.]\n",
      " [1. 0. 0. 0. 1.]\n",
      " [1. 0. 0. 0. 1.]\n",
      " [1. 0. 0. 0. 1.]\n",
      " [1. 1. 1. 1. 1.]]\n"
     ]
    }
   ],
   "source": [
    "#15. Create a 2d array with 1 on the border and 0 inside \n",
    "array2d = np.ones((5,5)) #2d 5x5 array\n",
    "array2d[1:-1,1:-1] = 0\n",
    "print(array2d)\n",
    "#alternatively\n",
    "array_with_border = np.pad(np.zeros((3, 3)), pad_width=1, constant_values=1)\n",
    "\n",
    "print(array_with_border)"
   ]
  },
  {
   "cell_type": "code",
   "execution_count": 52,
   "metadata": {},
   "outputs": [
    {
     "name": "stdout",
     "output_type": "stream",
     "text": [
      "Existing Array:\n",
      "[[1 2 3]\n",
      " [4 5 6]\n",
      " [7 8 9]]\n",
      "\n",
      "Array with Border:\n",
      "[[0 0 0 0 0]\n",
      " [0 1 2 3 0]\n",
      " [0 4 5 6 0]\n",
      " [0 7 8 9 0]\n",
      " [0 0 0 0 0]]\n"
     ]
    }
   ],
   "source": [
    "#16. How to add a border (filled with 0's) around an existing array?\n",
    "\n",
    "# Example existing array\n",
    "existing_array = np.array([[1, 2, 3],\n",
    "                           [4, 5, 6],\n",
    "                           [7, 8, 9]])\n",
    "\n",
    "# Add a border of 0's around the existing array\n",
    "array_with_border = np.pad(existing_array, pad_width=1, constant_values=0)\n",
    "\n",
    "print(\"Existing Array:\")\n",
    "print(existing_array)\n",
    "\n",
    "print(\"\\nArray with Border:\")\n",
    "print(array_with_border)\n"
   ]
  },
  {
   "cell_type": "code",
   "execution_count": 58,
   "metadata": {},
   "outputs": [
    {
     "data": {
      "text/plain": [
       "nan"
      ]
     },
     "execution_count": 58,
     "metadata": {},
     "output_type": "execute_result"
    }
   ],
   "source": [
    "#17. What is the result of the following expression?\n",
    "np.nan\n"
   ]
  },
  {
   "cell_type": "code",
   "execution_count": 59,
   "metadata": {},
   "outputs": [
    {
     "data": {
      "text/plain": [
       "nan"
      ]
     },
     "execution_count": 59,
     "metadata": {},
     "output_type": "execute_result"
    }
   ],
   "source": [
    "0 * np.nan"
   ]
  },
  {
   "cell_type": "code",
   "execution_count": 60,
   "metadata": {},
   "outputs": [
    {
     "data": {
      "text/plain": [
       "False"
      ]
     },
     "execution_count": 60,
     "metadata": {},
     "output_type": "execute_result"
    }
   ],
   "source": [
    "np.nan == np.nan"
   ]
  },
  {
   "cell_type": "code",
   "execution_count": 61,
   "metadata": {},
   "outputs": [
    {
     "data": {
      "text/plain": [
       "False"
      ]
     },
     "execution_count": 61,
     "metadata": {},
     "output_type": "execute_result"
    }
   ],
   "source": [
    "np.inf > np.nan"
   ]
  },
  {
   "cell_type": "code",
   "execution_count": 62,
   "metadata": {},
   "outputs": [
    {
     "data": {
      "text/plain": [
       "nan"
      ]
     },
     "execution_count": 62,
     "metadata": {},
     "output_type": "execute_result"
    }
   ],
   "source": [
    "np.nan - np.nan"
   ]
  },
  {
   "cell_type": "code",
   "execution_count": 63,
   "metadata": {},
   "outputs": [
    {
     "data": {
      "text/plain": [
       "True"
      ]
     },
     "execution_count": 63,
     "metadata": {},
     "output_type": "execute_result"
    }
   ],
   "source": [
    "np.nan in set([np.nan])"
   ]
  },
  {
   "cell_type": "code",
   "execution_count": 64,
   "metadata": {},
   "outputs": [
    {
     "data": {
      "text/plain": [
       "False"
      ]
     },
     "execution_count": 64,
     "metadata": {},
     "output_type": "execute_result"
    }
   ],
   "source": [
    "0.3 == 3 * 0.1"
   ]
  },
  {
   "cell_type": "code",
   "execution_count": 70,
   "metadata": {},
   "outputs": [
    {
     "name": "stdout",
     "output_type": "stream",
     "text": [
      "[[0 0 0 0 0]\n",
      " [1 0 0 0 0]\n",
      " [0 2 0 0 0]\n",
      " [0 0 3 0 0]\n",
      " [0 0 0 4 0]]\n"
     ]
    }
   ],
   "source": [
    "#18. Create a 5x5 matrix with values 1,2,3,4 just below the diagonal\n",
    "\n",
    "\n",
    "matrix = np.diag([1, 2, 3, 4], k=-1) #k=-1 means below diag, 1 means above, 0 means on the diag\n",
    "\n",
    "print(matrix)\n"
   ]
  },
  {
   "cell_type": "code",
   "execution_count": 67,
   "metadata": {},
   "outputs": [
    {
     "name": "stdout",
     "output_type": "stream",
     "text": [
      "[[0 1 0 1 0 1 0 1]\n",
      " [1 0 1 0 1 0 1 0]\n",
      " [0 1 0 1 0 1 0 1]\n",
      " [1 0 1 0 1 0 1 0]\n",
      " [0 1 0 1 0 1 0 1]\n",
      " [1 0 1 0 1 0 1 0]\n",
      " [0 1 0 1 0 1 0 1]\n",
      " [1 0 1 0 1 0 1 0]]\n"
     ]
    }
   ],
   "source": [
    "#19. Create a 8x8 matrix and fill it with a checkerboard pattern\n",
    "import numpy as np\n",
    "\n",
    "# Create an 8x8 matrix with a checkerboard pattern\n",
    "checkerboard_matrix = np.zeros((8, 8), dtype=int)\n",
    "\n",
    "# Fill the even rows and columns with 1\n",
    "checkerboard_matrix[1::2, ::2] = 1\n",
    "checkerboard_matrix[::2, 1::2] = 1\n",
    "\n",
    "print(checkerboard_matrix)\n"
   ]
  },
  {
   "cell_type": "code",
   "execution_count": 71,
   "metadata": {},
   "outputs": [
    {
     "name": "stdout",
     "output_type": "stream",
     "text": [
      "Indices (x, y, z): (1, 5, 4)\n"
     ]
    }
   ],
   "source": [
    "#20. Consider a (6,7,8) shape array, what is the index (x,y,z) of the 100th element?\n",
    "\n",
    "shape = (6, 7, 8)\n",
    "desired_index = 100\n",
    "\n",
    "indices = np.unravel_index(desired_index, shape)\n",
    "\n",
    "print(\"Indices (x, y, z):\", indices)\n"
   ]
  },
  {
   "cell_type": "code",
   "execution_count": 72,
   "metadata": {},
   "outputs": [
    {
     "name": "stdout",
     "output_type": "stream",
     "text": [
      "[[0 1 0 1 0 1 0 1]\n",
      " [1 0 1 0 1 0 1 0]\n",
      " [0 1 0 1 0 1 0 1]\n",
      " [1 0 1 0 1 0 1 0]\n",
      " [0 1 0 1 0 1 0 1]\n",
      " [1 0 1 0 1 0 1 0]\n",
      " [0 1 0 1 0 1 0 1]\n",
      " [1 0 1 0 1 0 1 0]]\n"
     ]
    }
   ],
   "source": [
    "#21.  Create a checkerboard 8x8 matrix using the tile function\n",
    "\n",
    "# Create a 2x2 checkerboard\n",
    "checkerboard_tile = np.tile([[0, 1], [1, 0]], (4, 4))\n",
    "\n",
    "print(checkerboard_tile)\n"
   ]
  },
  {
   "cell_type": "code",
   "execution_count": 73,
   "metadata": {},
   "outputs": [
    {
     "name": "stdout",
     "output_type": "stream",
     "text": [
      "Original Matrix:\n",
      "[[0.90707944 0.08582725 0.29041737 0.45977501 0.59113438]\n",
      " [0.52270774 0.55677832 0.17807635 0.56964559 0.09190004]\n",
      " [0.51890171 0.17176123 0.9676952  0.37028063 0.00690894]\n",
      " [0.99931506 0.38447087 0.5203297  0.25641003 0.42409907]\n",
      " [0.17288549 0.23671945 0.23864719 0.93397967 0.22432953]]\n",
      "\n",
      "Normalized Matrix:\n",
      "[[0.90705859 0.07952219 0.28567783 0.45633139 0.58869592]\n",
      " [0.51974569 0.55407697 0.17247718 0.5670427  0.08564144]\n",
      " [0.51591053 0.16611374 0.96813818 0.36615221 0.        ]\n",
      " [1.         0.38045102 0.51734944 0.25141027 0.42038246]\n",
      " [0.16724659 0.23156902 0.23351151 0.93416466 0.21908428]]\n"
     ]
    }
   ],
   "source": [
    "#22. Normalize a 5x5 random matrix\n",
    "random_matrix = np.random.rand(5, 5)\n",
    "\n",
    "# Normalize the matrix using Min-Max scaling\n",
    "normalized_matrix = (random_matrix - np.min(random_matrix)) / (np.max(random_matrix) - np.min(random_matrix))\n",
    "\n",
    "print(\"Original Matrix:\")\n",
    "print(random_matrix)\n",
    "print(\"\\nNormalized Matrix:\")\n",
    "print(normalized_matrix)"
   ]
  },
  {
   "cell_type": "code",
   "execution_count": 74,
   "metadata": {},
   "outputs": [
    {
     "name": "stdout",
     "output_type": "stream",
     "text": [
      "[(255,   0, 0, 255) (  0, 255, 0, 128)]\n"
     ]
    }
   ],
   "source": [
    "#23. Create a custom dtype that describes a color as four unsigned bytes (RGBA)\n",
    "\n",
    "# Define the custom dtype for RGBA color\n",
    "rgba_dtype = np.dtype([('R', np.uint8), ('G', np.uint8), ('B', np.uint8), ('A', np.uint8)])\n",
    "\n",
    "# Create an array with the custom dtype\n",
    "color_array = np.array([(255, 0, 0, 255), (0, 255, 0, 128)], dtype=rgba_dtype)\n",
    "\n",
    "print(color_array)\n",
    "\n",
    "\n"
   ]
  },
  {
   "cell_type": "code",
   "execution_count": 77,
   "metadata": {},
   "outputs": [
    {
     "name": "stdout",
     "output_type": "stream",
     "text": [
      "Matrix A:\n",
      "[[0.74304971 0.21510548 0.04270026]\n",
      " [0.15573462 0.44194241 0.26096165]\n",
      " [0.68486512 0.65365932 0.59706251]\n",
      " [0.32567343 0.93314441 0.34176153]\n",
      " [0.10699759 0.64904795 0.78539097]]\n",
      "\n",
      "Matrix B:\n",
      "[[0.55825764 0.69851476]\n",
      " [0.66583055 0.05830172]\n",
      " [0.35772629 0.90839215]]\n",
      "\n",
      "Result (using numpy.dot):\n",
      "[[0.57331199 0.5703608 ]\n",
      " [0.47455165 0.37160446]\n",
      " [1.03114249 1.05886475]\n",
      " [0.92538283 0.59234512]\n",
      " [0.77284318 0.82602301]]\n",
      "\n",
      "Result (using @ operator):\n",
      "[[0.57331199 0.5703608 ]\n",
      " [0.47455165 0.37160446]\n",
      " [1.03114249 1.05886475]\n",
      " [0.92538283 0.59234512]\n",
      " [0.77284318 0.82602301]]\n"
     ]
    }
   ],
   "source": [
    "#24. Multiply a 5x3 matrix by a 3x2 matrix (real matrix product)\n",
    "import numpy as np\n",
    "\n",
    "# Create a 5x3 matrix\n",
    "matrix_a = np.random.rand(5, 3)\n",
    "\n",
    "# Create a 3x2 matrix\n",
    "matrix_b = np.random.rand(3, 2)\n",
    "\n",
    "# Multiply the matrices using numpy.dot\n",
    "result_dot = np.dot(matrix_a, matrix_b)\n",
    "\n",
    "# Alternatively, you can use the @ operator\n",
    "result_operator = matrix_a @ matrix_b\n",
    "\n",
    "print(\"Matrix A:\")\n",
    "print(matrix_a)\n",
    "print(\"\\nMatrix B:\")\n",
    "print(matrix_b)\n",
    "print(\"\\nResult (using numpy.dot):\")\n",
    "print(result_dot)\n",
    "print(\"\\nResult (using @ operator):\")\n",
    "print(result_operator)\n"
   ]
  },
  {
   "cell_type": "code",
   "execution_count": 76,
   "metadata": {},
   "outputs": [
    {
     "name": "stdout",
     "output_type": "stream",
     "text": [
      "[ 1 -5 -4  9  2 -7 -6  3  8]\n"
     ]
    }
   ],
   "source": [
    "#25. Given a 1D array, negate all elements which are between 3 and 8, in place.\n",
    "\n",
    "\n",
    "# Create a 1D array\n",
    "arr = np.array([1, 5, 4, 9, 2, 7, 6, 3, 8])\n",
    "\n",
    "# Negate elements between 3 and 8 in place\n",
    "arr[(arr > 3) & (arr < 8)] *= -1\n",
    "\n",
    "print(arr)\n"
   ]
  },
  {
   "cell_type": "code",
   "execution_count": 83,
   "metadata": {},
   "outputs": [
    {
     "name": "stdout",
     "output_type": "stream",
     "text": [
      "10\n"
     ]
    }
   ],
   "source": [
    "#26. What is the output of the following script? \n",
    "# Author: Jake VanderPlas\n",
    "\n",
    "print(sum(range(5),-1))\n"
   ]
  },
  {
   "cell_type": "code",
   "execution_count": 82,
   "metadata": {},
   "outputs": [
    {
     "name": "stdout",
     "output_type": "stream",
     "text": [
      "10\n"
     ]
    }
   ],
   "source": [
    "from numpy import *\n",
    "print(sum(range(5),-1)) #in numpy, the second argument in sum means the axis on which the sum should be done. -1 means the last axis"
   ]
  },
  {
   "cell_type": "code",
   "execution_count": null,
   "metadata": {},
   "outputs": [],
   "source": [
    "\n",
    "\n",
    "#27. Consider an integer vector Z, which of these expressions are legal?\n",
    "#1. `Z**Z`: This is legal. It raises each element of `Z` to the power of itself.\n",
    "\n",
    "#2. `2 << Z >> 2`: This is legal. It performs a bitwise left shift (`<<`) by `Z` positions, followed by a bitwise right shift (`>>`) by 2 positions.\n",
    "\n",
    "#3. `Z <- Z`: This is legal. It performs an element-wise comparison, checking if each element in `Z` is less than its negation.\n",
    "\n",
    "#4. `1j*Z`: This is legal. It multiplies each element of `Z` by the imaginary unit `1j`.\n",
    "\n",
    "#5. `Z/1/1`: This is legal. It divides each element of `Z` by 1, and then divides the result by 1 again. This is equivalent to `Z`.\n",
    "\n",
    "#6. `Z<Z>Z`: This is not legal. The expression `Z < Z` produces a boolean array, and you cannot compare a boolean array with `Z` using `<`. This will raise a `ValueError`.\n",
    "\n"
   ]
  },
  {
   "cell_type": "code",
   "execution_count": 85,
   "metadata": {},
   "outputs": [
    {
     "name": "stderr",
     "output_type": "stream",
     "text": [
      "/var/folders/4k/mygtm1_96r7g77fdsqmbmb4m0000gn/T/ipykernel_6567/3867454011.py:2: RuntimeWarning: invalid value encountered in divide\n",
      "  np.array(0) / np.array(0)\n"
     ]
    },
    {
     "data": {
      "text/plain": [
       "nan"
      ]
     },
     "execution_count": 85,
     "metadata": {},
     "output_type": "execute_result"
    }
   ],
   "source": [
    "#28. What are the result of the following expressions?\n",
    "np.array(0) / np.array(0)\n"
   ]
  },
  {
   "cell_type": "code",
   "execution_count": 86,
   "metadata": {},
   "outputs": [
    {
     "name": "stderr",
     "output_type": "stream",
     "text": [
      "/var/folders/4k/mygtm1_96r7g77fdsqmbmb4m0000gn/T/ipykernel_6567/474058805.py:1: RuntimeWarning: divide by zero encountered in floor_divide\n",
      "  np.array(0) // np.array(0)\n"
     ]
    },
    {
     "data": {
      "text/plain": [
       "0"
      ]
     },
     "execution_count": 86,
     "metadata": {},
     "output_type": "execute_result"
    }
   ],
   "source": [
    "np.array(0) // np.array(0)\n"
   ]
  },
  {
   "cell_type": "code",
   "execution_count": 87,
   "metadata": {},
   "outputs": [
    {
     "name": "stderr",
     "output_type": "stream",
     "text": [
      "/var/folders/4k/mygtm1_96r7g77fdsqmbmb4m0000gn/T/ipykernel_6567/3343435198.py:1: RuntimeWarning: invalid value encountered in cast\n",
      "  np.array([np.nan]).astype(int).astype(float)\n"
     ]
    },
    {
     "data": {
      "text/plain": [
       "array([0.])"
      ]
     },
     "execution_count": 87,
     "metadata": {},
     "output_type": "execute_result"
    }
   ],
   "source": [
    "\n",
    "np.array([np.nan]).astype(int).astype(float)"
   ]
  },
  {
   "cell_type": "code",
   "execution_count": 88,
   "metadata": {},
   "outputs": [
    {
     "name": "stdout",
     "output_type": "stream",
     "text": [
      "Original array: [-3.7 -1.5  0.3  1.5  2.7]\n",
      "Rounded up: [-3. -1.  1.  2.  3.]\n",
      "Rounded down: [-4. -2.  0.  1.  2.]\n"
     ]
    }
   ],
   "source": [
    "#29. How to round away from zero a float array ?\n",
    "# Create a float array\n",
    "float_array = np.array([-3.7, -1.5, 0.3, 1.5, 2.7])\n",
    "\n",
    "# Round away from zero using numpy.ceil and numpy.floor\n",
    "rounded_up = np.ceil(float_array)\n",
    "rounded_down = np.floor(float_array)\n",
    "\n",
    "print(\"Original array:\", float_array)\n",
    "print(\"Rounded up:\", rounded_up)\n",
    "print(\"Rounded down:\", rounded_down)\n",
    "\n",
    "\n",
    "\n",
    "\n"
   ]
  },
  {
   "cell_type": "code",
   "execution_count": 89,
   "metadata": {},
   "outputs": [
    {
     "name": "stdout",
     "output_type": "stream",
     "text": [
      "Array 1: [1 2 3 4 5]\n",
      "Array 2: [3 4 5 6 7]\n",
      "Common values: [3 4 5]\n"
     ]
    }
   ],
   "source": [
    "#30. How to find common values between two arrays? \n",
    "\n",
    "# Create two arrays\n",
    "array1 = np.array([1, 2, 3, 4, 5])\n",
    "array2 = np.array([3, 4, 5, 6, 7])\n",
    "\n",
    "# Find common values\n",
    "common_values = np.intersect1d(array1, array2)\n",
    "\n",
    "print(\"Array 1:\", array1)\n",
    "print(\"Array 2:\", array2)\n",
    "print(\"Common values:\", common_values)\n"
   ]
  },
  {
   "cell_type": "code",
   "execution_count": null,
   "metadata": {},
   "outputs": [],
   "source": [
    "#31. How to ignore all numpy warnings (not recommended)\n",
    "# Ignore all NumPy warnings (not recommended)\n",
    "np.seterr(all='ignore')\n",
    "\n",
    "# Your code here\n",
    "\n",
    "# Reset to the default warning settings if needed\n",
    "np.seterr(all='warn')\n"
   ]
  },
  {
   "cell_type": "code",
   "execution_count": 91,
   "metadata": {},
   "outputs": [
    {
     "name": "stderr",
     "output_type": "stream",
     "text": [
      "/var/folders/4k/mygtm1_96r7g77fdsqmbmb4m0000gn/T/ipykernel_6567/991187553.py:2: RuntimeWarning: invalid value encountered in sqrt\n",
      "  np.sqrt(-1) == np.emath.sqrt(-1)\n"
     ]
    },
    {
     "data": {
      "text/plain": [
       "False"
      ]
     },
     "execution_count": 91,
     "metadata": {},
     "output_type": "execute_result"
    }
   ],
   "source": [
    "#32. Is the following expressions true?\n",
    "np.sqrt(-1) == np.emath.sqrt(-1)"
   ]
  },
  {
   "cell_type": "code",
   "execution_count": 92,
   "metadata": {},
   "outputs": [
    {
     "name": "stdout",
     "output_type": "stream",
     "text": [
      "Yesterday: 2024-02-09\n",
      "Today: 2024-02-10\n",
      "Tomorrow: 2024-02-11\n"
     ]
    }
   ],
   "source": [
    "#33. How to get the dates of yesterday, today and tomorrow?\n",
    "from datetime import datetime, timedelta\n",
    "\n",
    "# Get today's date\n",
    "today = datetime.now().date()\n",
    "\n",
    "# Get yesterday's date\n",
    "yesterday = today - timedelta(days=1)\n",
    "\n",
    "# Get tomorrow's date\n",
    "tomorrow = today + timedelta(days=1)\n",
    "\n",
    "print(\"Yesterday:\", yesterday)\n",
    "print(\"Today:\", today)\n",
    "print(\"Tomorrow:\", tomorrow)\n"
   ]
  },
  {
   "cell_type": "code",
   "execution_count": 93,
   "metadata": {},
   "outputs": [
    {
     "name": "stdout",
     "output_type": "stream",
     "text": [
      "DatetimeIndex(['2016-07-01', '2016-07-02', '2016-07-03', '2016-07-04',\n",
      "               '2016-07-05', '2016-07-06', '2016-07-07', '2016-07-08',\n",
      "               '2016-07-09', '2016-07-10', '2016-07-11', '2016-07-12',\n",
      "               '2016-07-13', '2016-07-14', '2016-07-15', '2016-07-16',\n",
      "               '2016-07-17', '2016-07-18', '2016-07-19', '2016-07-20',\n",
      "               '2016-07-21', '2016-07-22', '2016-07-23', '2016-07-24',\n",
      "               '2016-07-25', '2016-07-26', '2016-07-27', '2016-07-28',\n",
      "               '2016-07-29', '2016-07-30', '2016-07-31'],\n",
      "              dtype='datetime64[ns]', freq='D')\n"
     ]
    }
   ],
   "source": [
    "#34. How to get all the dates corresponding to the month of July 2016?\n",
    "import pandas as pd\n",
    "\n",
    "# Create a date range for the month of July 2016\n",
    "start_date = '2016-07-01'\n",
    "end_date = '2016-07-31'\n",
    "date_range = pd.date_range(start_date, end_date)\n",
    "\n",
    "print(date_range)\n"
   ]
  },
  {
   "cell_type": "code",
   "execution_count": 95,
   "metadata": {},
   "outputs": [
    {
     "name": "stdout",
     "output_type": "stream",
     "text": [
      "[-12.5 -24.5 -40.5]\n"
     ]
    }
   ],
   "source": [
    "#35. How to compute ((A+B)*(-A/2)) in place (without copy)?\n",
    "# Assuming A and B are NumPy arrays\n",
    "\n",
    "# Assuming A and B are NumPy arrays\n",
    "A = np.array([1, 2, 3], dtype=float)\n",
    "B = np.array([4, 5, 6])\n",
    "\n",
    "# In-place computation of ((A+B)*(-A/2))\n",
    "A += B\n",
    "A *= -A / 2\n",
    "\n",
    "print(A)\n"
   ]
  },
  {
   "cell_type": "code",
   "execution_count": 96,
   "metadata": {},
   "outputs": [
    {
     "name": "stdout",
     "output_type": "stream",
     "text": [
      "Original array: [7.42862153 3.85883038 1.0810567  8.41479091]\n",
      "Integer part (using floor): [7. 3. 1. 8.]\n",
      "Integer part (using ceil): [8. 4. 2. 9.]\n",
      "Integer part (using trunc): [7. 3. 1. 8.]\n",
      "Integer part (using astype): [7 3 1 8]\n"
     ]
    }
   ],
   "source": [
    "#36. Extract the integer part of a random array of positive numbers using 4 different methods\n",
    "\n",
    "# Generate a random array of positive numbers\n",
    "random_array = np.random.rand(4) * 10  \n",
    "\n",
    "# Method 1: Using numpy.floor\n",
    "integer_part_floor = np.floor(random_array)\n",
    "\n",
    "# Method 2: Using numpy.ceil\n",
    "integer_part_ceil = np.ceil(random_array)\n",
    "\n",
    "# Method 3: Using numpy.trunc\n",
    "integer_part_trunc = np.trunc(random_array)\n",
    "\n",
    "# Method 4: Using numpy.astype(int)\n",
    "integer_part_cast = random_array.astype(int)\n",
    "\n",
    "\n",
    "print(\"Original array:\", random_array)\n",
    "print(\"Integer part (using floor):\", integer_part_floor)\n",
    "print(\"Integer part (using ceil):\", integer_part_ceil)\n",
    "print(\"Integer part (using trunc):\", integer_part_trunc)\n",
    "print(\"Integer part (using astype):\", integer_part_cast)\n"
   ]
  },
  {
   "cell_type": "code",
   "execution_count": 101,
   "metadata": {},
   "outputs": [
    {
     "name": "stdout",
     "output_type": "stream",
     "text": [
      "[[0 1 2 3 4]\n",
      " [0 1 2 3 4]\n",
      " [0 1 2 3 4]\n",
      " [0 1 2 3 4]\n",
      " [0 1 2 3 4]]\n"
     ]
    }
   ],
   "source": [
    "#37. Create a 5x5 matrix with row values ranging from 0 to 4\n",
    "# Step 1: Generate an array with values from 0 to 4\n",
    "row_values = np.arange(5)\n",
    "\n",
    "# Step 2: Create a 5x5 matrix by replicating the array along the rows\n",
    "matrix = np.tile(row_values, (5, 1))\n",
    "\n",
    "print(matrix)"
   ]
  },
  {
   "cell_type": "code",
   "execution_count": 102,
   "metadata": {},
   "outputs": [
    {
     "name": "stdout",
     "output_type": "stream",
     "text": [
      "[0 1 2 3 4 5 6 7 8 9]\n"
     ]
    }
   ],
   "source": [
    "#38. Consider a generator function that generates 10 integers and use it to build an array\n",
    "# Generator function to yield 10 integers\n",
    "def generate_integers():\n",
    "    for i in range(10):\n",
    "        yield i\n",
    "\n",
    "# Create an array from the generator\n",
    "generated_array = np.array(list(generate_integers()))\n",
    "\n",
    "print(generated_array)"
   ]
  },
  {
   "cell_type": "code",
   "execution_count": 110,
   "metadata": {},
   "outputs": [
    {
     "name": "stdout",
     "output_type": "stream",
     "text": [
      "[0.09090909 0.18181818 0.27272727 0.36363636 0.45454545 0.54545455\n",
      " 0.63636364 0.72727273 0.81818182 0.90909091]\n"
     ]
    }
   ],
   "source": [
    "#39. Create a vector of size 10 with values ranging from 0 to 1, both excluded\n",
    "\n",
    "vector = np.linspace(0, 1, 12)[1:-1]\n",
    "\n",
    "print(vector)"
   ]
  },
  {
   "cell_type": "code",
   "execution_count": 113,
   "metadata": {},
   "outputs": [
    {
     "name": "stdout",
     "output_type": "stream",
     "text": [
      "[0.00326139 0.90423164 0.51362341 0.96581604 0.18803237 0.1307981\n",
      " 0.61287484 0.37809346 0.87310071 0.40501269]\n",
      "[0.00326139 0.1307981  0.18803237 0.37809346 0.40501269 0.51362341\n",
      " 0.61287484 0.87310071 0.90423164 0.96581604]\n"
     ]
    }
   ],
   "source": [
    "#40. Create a random vector of size 10 and sort it \n",
    "rand_vec = np.random.rand(10)\n",
    "print(rand_vec)\n",
    "print(np.sort(rand_vec))"
   ]
  },
  {
   "cell_type": "code",
   "execution_count": 114,
   "metadata": {},
   "outputs": [
    {
     "name": "stdout",
     "output_type": "stream",
     "text": [
      "Using np.sum: 15 Elapsed Time: 0.001065708000169252\n",
      "Using built-in sum: 15 Elapsed Time: 3.4374999813735485e-05\n",
      "Using np.add.reduce: 15 Elapsed Time: 2.7582998882280663e-05\n"
     ]
    }
   ],
   "source": [
    "#41. How to sum a small array faster than np.sum?\n",
    "\n",
    "import timeit\n",
    "\n",
    "# Create a small array\n",
    "small_array = np.array([1, 2, 3, 4, 5])\n",
    "\n",
    "# Using np.sum\n",
    "start_time = timeit.default_timer()\n",
    "sum_np = np.sum(small_array)\n",
    "elapsed_time_np = timeit.default_timer() - start_time\n",
    "\n",
    "# Using built-in Python sum\n",
    "start_time = timeit.default_timer()\n",
    "sum_builtin = sum(small_array)\n",
    "elapsed_time_builtin = timeit.default_timer() - start_time\n",
    "\n",
    "# Using np.add.reduce\n",
    "start_time = timeit.default_timer()\n",
    "sum_reduce = np.add.reduce(small_array)\n",
    "elapsed_time_reduce = timeit.default_timer() - start_time\n",
    "\n",
    "print(\"Using np.sum:\", sum_np, \"Elapsed Time:\", elapsed_time_np)\n",
    "print(\"Using built-in sum:\", sum_builtin, \"Elapsed Time:\", elapsed_time_builtin)\n",
    "print(\"Using np.add.reduce:\", sum_reduce, \"Elapsed Time:\", elapsed_time_reduce)\n"
   ]
  },
  {
   "cell_type": "code",
   "execution_count": 115,
   "metadata": {},
   "outputs": [
    {
     "name": "stdout",
     "output_type": "stream",
     "text": [
      "Array A: [0.78879145 0.27513284 0.42103764 0.56550831 0.99087574]\n",
      "Array B: [0.58913648 0.91595472 0.12016335 0.57839264 0.36250184]\n",
      "Are arrays A and B equal? False\n"
     ]
    }
   ],
   "source": [
    "#42. Consider two random array A and B, check if they are equal \n",
    "# Create two random arrays A and B\n",
    "A = np.random.rand(5)\n",
    "B = np.random.rand(5)\n",
    "\n",
    "# Check if arrays A and B are equal\n",
    "are_equal = np.array_equal(A, B)\n",
    "\n",
    "print(\"Array A:\", A)\n",
    "print(\"Array B:\", B)\n",
    "print(\"Are arrays A and B equal?\", are_equal)"
   ]
  },
  {
   "cell_type": "code",
   "execution_count": 116,
   "metadata": {},
   "outputs": [
    {
     "name": "stdout",
     "output_type": "stream",
     "text": [
      "Error: assignment destination is read-only\n",
      "Is the array read-only? True\n"
     ]
    }
   ],
   "source": [
    "#43. Make an array immutable (read-only) \n",
    "\n",
    "# Create a NumPy array\n",
    "my_array = np.array([1, 2, 3, 4, 5])\n",
    "\n",
    "# Make the array read-only\n",
    "my_array.flags.writeable = False\n",
    "\n",
    "# Try to modify the array (will raise an error)\n",
    "try:\n",
    "    my_array[0] = 10\n",
    "except ValueError as e:\n",
    "    print(f\"Error: {e}\")\n",
    "\n",
    "# Check if the array is read-only\n",
    "print(\"Is the array read-only?\", not my_array.flags.writeable)\n"
   ]
  },
  {
   "cell_type": "code",
   "execution_count": 117,
   "metadata": {},
   "outputs": [
    {
     "name": "stdout",
     "output_type": "stream",
     "text": [
      "Cartesian Coordinates:\n",
      "[[0.74176015 0.10683892]\n",
      " [0.24228438 0.12534535]\n",
      " [0.52652076 0.97338316]\n",
      " [0.75384224 0.33074747]\n",
      " [0.8439104  0.91553589]\n",
      " [0.44460861 0.42438362]\n",
      " [0.89447958 0.24043677]\n",
      " [0.13587044 0.86300382]\n",
      " [0.00916133 0.50932299]\n",
      " [0.91783224 0.92069601]]\n",
      "\n",
      "Polar Coordinates:\n",
      "Radius (r): [0.74941488 0.27278779 1.10666115 0.82320836 1.24514687 0.6146367\n",
      " 0.92623083 0.873634   0.50940538 1.30003737]\n",
      "Angle (theta): [0.1430505  0.47742954 1.07495236 0.41345824 0.82608481 0.76212829\n",
      " 0.26259372 1.41463916 1.55281099 0.7869558 ]\n"
     ]
    }
   ],
   "source": [
    "#44. Consider a random 10x2 matrix representing cartesian coordinates, convert them to polar coordinates\n",
    "\n",
    "# Create a random 10x2 matrix representing cartesian coordinates\n",
    "cartesian_coordinates = np.random.rand(10, 2)\n",
    "\n",
    "# Extract x and y coordinates\n",
    "x = cartesian_coordinates[:, 0]\n",
    "y = cartesian_coordinates[:, 1]\n",
    "\n",
    "# Convert to polar coordinates\n",
    "r = np.hypot(x, y)\n",
    "theta = np.arctan2(y, x)\n",
    "\n",
    "# Display the results\n",
    "print(\"Cartesian Coordinates:\")\n",
    "print(cartesian_coordinates)\n",
    "print(\"\\nPolar Coordinates:\")\n",
    "print(\"Radius (r):\", r)\n",
    "print(\"Angle (theta):\", theta)\n"
   ]
  },
  {
   "cell_type": "code",
   "execution_count": 121,
   "metadata": {},
   "outputs": [
    {
     "name": "stdout",
     "output_type": "stream",
     "text": [
      "Original random vector: [0.21194684 0.00356447 0.54634191 0.         0.07957941 0.55700057\n",
      " 0.01872104 0.69915353 0.11370928 0.608772  ]\n"
     ]
    }
   ],
   "source": [
    "#45. Create random vector of size 10 and replace the maximum value by 0\n",
    "\n",
    "# Create a random vector of size 10\n",
    "random_vector = np.random.rand(10)\n",
    "\n",
    "# Find the index of the maximum value\n",
    "max_index = np.argmax(random_vector)\n",
    "\n",
    "# Replace the maximum value with 0\n",
    "random_vector[max_index] = 0\n",
    "\n",
    "print(\"Original random vector:\", random_vector)\n"
   ]
  },
  {
   "cell_type": "code",
   "execution_count": 124,
   "metadata": {},
   "outputs": [
    {
     "name": "stdout",
     "output_type": "stream",
     "text": [
      "[[(0.  , 0.  ) (0.25, 0.  ) (0.5 , 0.  ) (0.75, 0.  ) (1.  , 0.  )]\n",
      " [(0.  , 0.25) (0.25, 0.25) (0.5 , 0.25) (0.75, 0.25) (1.  , 0.25)]\n",
      " [(0.  , 0.5 ) (0.25, 0.5 ) (0.5 , 0.5 ) (0.75, 0.5 ) (1.  , 0.5 )]\n",
      " [(0.  , 0.75) (0.25, 0.75) (0.5 , 0.75) (0.75, 0.75) (1.  , 0.75)]\n",
      " [(0.  , 1.  ) (0.25, 1.  ) (0.5 , 1.  ) (0.75, 1.  ) (1.  , 1.  )]]\n"
     ]
    }
   ],
   "source": [
    "#46. Create a structured array with x and y coordinates covering the [0,1]x[0,1] area\n",
    "\n",
    "# Create a structured array with x and y coordinates\n",
    "grid = np.zeros((5, 5), dtype=[('x', float), ('y', float)])\n",
    "\n",
    "# Fill in x and y coordinates covering [0, 1]x[0, 1]\n",
    "grid['x'], grid['y'] = np.meshgrid(np.linspace(0, 1, 5), np.linspace(0, 1, 5))\n",
    "\n",
    "print(grid)\n"
   ]
  },
  {
   "cell_type": "code",
   "execution_count": 125,
   "metadata": {},
   "outputs": [
    {
     "name": "stdout",
     "output_type": "stream",
     "text": [
      "[[-0.33333333 -0.25       -0.2       ]\n",
      " [-0.5        -0.33333333 -0.25      ]\n",
      " [-1.         -0.5        -0.33333333]]\n"
     ]
    }
   ],
   "source": [
    "#47. Given two arrays, X and Y, construct the Cauchy matrix C (Cij =1/(xi - yj))\n",
    "\n",
    "# Given arrays X and Y\n",
    "X = np.array([1, 2, 3])\n",
    "Y = np.array([4, 5, 6])\n",
    "\n",
    "# Construct the Cauchy matrix C\n",
    "C = 1.0 / (X[:, np.newaxis] - Y)\n",
    "\n",
    "print(C)\n"
   ]
  },
  {
   "cell_type": "code",
   "execution_count": 126,
   "metadata": {},
   "outputs": [
    {
     "name": "stdout",
     "output_type": "stream",
     "text": [
      "int8: Min = -128, Max = 127\n",
      "int16: Min = -32768, Max = 32767\n",
      "int32: Min = -2147483648, Max = 2147483647\n",
      "int64: Min = -9223372036854775808, Max = 9223372036854775807\n",
      "uint8: Min = 0, Max = 255\n",
      "uint16: Min = 0, Max = 65535\n",
      "uint32: Min = 0, Max = 4294967295\n",
      "uint64: Min = 0, Max = 18446744073709551615\n",
      "float16: Min = -65504.0, Max = 65504.0\n",
      "float32: Min = -3.4028234663852886e+38, Max = 3.4028234663852886e+38\n",
      "float64: Min = -1.7976931348623157e+308, Max = 1.7976931348623157e+308\n"
     ]
    }
   ],
   "source": [
    "#48. Print the minimum and maximum representable value for each numpy scalar type \n",
    "\n",
    "\n",
    "# Print the minimum and maximum representable values for each numpy scalar type\n",
    "dtypes = [np.int8, np.int16, np.int32, np.int64,\n",
    "          np.uint8, np.uint16, np.uint32, np.uint64,\n",
    "          np.float16, np.float32, np.float64]\n",
    "\n",
    "for dtype in dtypes:\n",
    "    info = np.finfo(dtype) if np.issubdtype(dtype, np.floating) else np.iinfo(dtype)\n",
    "    print(f\"{dtype.__name__}: Min = {info.min}, Max = {info.max}\")\n"
   ]
  },
  {
   "cell_type": "code",
   "execution_count": 127,
   "metadata": {},
   "outputs": [
    {
     "name": "stdout",
     "output_type": "stream",
     "text": [
      "[[1 2 3]\n",
      " [4 5 6]\n",
      " [7 8 9]]\n"
     ]
    }
   ],
   "source": [
    "#49. How to print all the values of an array?\n",
    "\n",
    "# Create a NumPy array\n",
    "my_array = np.array([[1, 2, 3], [4, 5, 6], [7, 8, 9]])\n",
    "\n",
    "# Print all values using the print function\n",
    "print(my_array)\n"
   ]
  },
  {
   "cell_type": "code",
   "execution_count": 128,
   "metadata": {},
   "outputs": [
    {
     "name": "stdout",
     "output_type": "stream",
     "text": [
      "1\n",
      "2\n",
      "3\n",
      "4\n",
      "5\n",
      "6\n",
      "7\n",
      "8\n",
      "9\n"
     ]
    }
   ],
   "source": [
    "#alternatively\n",
    "# Print each element individually\n",
    "for row in my_array:\n",
    "    for element in row:\n",
    "        print(element)"
   ]
  },
  {
   "cell_type": "code",
   "execution_count": 129,
   "metadata": {},
   "outputs": [
    {
     "name": "stdout",
     "output_type": "stream",
     "text": [
      "Vector: [1.2 2.5 3.8 4.1 5.3]\n",
      "Scalar: 3.0\n",
      "Closest value: 2.5\n"
     ]
    }
   ],
   "source": [
    "#50. How to find the closest value (to a given scalar) in a vector?\n",
    "\n",
    "\n",
    "# Create a NumPy vector\n",
    "vector = np.array([1.2, 2.5, 3.8, 4.1, 5.3])\n",
    "\n",
    "# Given scalar\n",
    "scalar = 3.0\n",
    "\n",
    "# Find the index of the closest value\n",
    "index_closest = np.argmin(np.abs(vector - scalar))\n",
    "\n",
    "# Get the closest value\n",
    "closest_value = vector[index_closest]\n",
    "\n",
    "print(\"Vector:\", vector)\n",
    "print(\"Scalar:\", scalar)\n",
    "print(\"Closest value:\", closest_value)\n"
   ]
  },
  {
   "cell_type": "code",
   "execution_count": 1,
   "metadata": {},
   "outputs": [
    {
     "name": "stdout",
     "output_type": "stream",
     "text": [
      "[((1. , 4.2), (255,   0, 128)) ((2.5, 5.1), (  0, 255, 128))\n",
      " ((3.7, 6.3), (128,  64, 192))]\n"
     ]
    }
   ],
   "source": [
    "#51. Create a structured array representing a position (x,y) and a color (r,g,b) \n",
    "\n",
    "\n",
    "# Define the dtype for the structured array\n",
    "dtype = np.dtype([('position', [('x', float), ('y', float)]),\n",
    "                  ('color', [('r', int), ('g', int), ('b', int)])])\n",
    "\n",
    "# Create a structured array with shape (3,)\n",
    "structured_array = np.zeros((3,), dtype=dtype)\n",
    "\n",
    "# Assign values to the elements of the structured array\n",
    "structured_array['position']['x'] = [1.0, 2.5, 3.7]\n",
    "structured_array['position']['y'] = [4.2, 5.1, 6.3]\n",
    "structured_array['color']['r'] = [255, 0, 128]\n",
    "structured_array['color']['g'] = [0, 255, 64]\n",
    "structured_array['color']['b'] = [128, 128, 192]\n",
    "\n",
    "# Print the structured array\n",
    "print(structured_array)\n"
   ]
  },
  {
   "cell_type": "code",
   "execution_count": 2,
   "metadata": {},
   "outputs": [
    {
     "name": "stdout",
     "output_type": "stream",
     "text": [
      "[[0.         0.65517624 0.1956706  ... 0.58574157 0.32337035 0.36333826]\n",
      " [0.65517624 0.         0.54335283 ... 0.317808   0.5077754  1.01792789]\n",
      " [0.1956706  0.54335283 0.         ... 0.5735046  0.39820695 0.50809967]\n",
      " ...\n",
      " [0.58574157 0.317808   0.5735046  ... 0.         0.30416964 0.92794672]\n",
      " [0.32337035 0.5077754  0.39820695 ... 0.30416964 0.         0.6339368 ]\n",
      " [0.36333826 1.01792789 0.50809967 ... 0.92794672 0.6339368  0.        ]]\n"
     ]
    }
   ],
   "source": [
    "#52. Consider a random vector with shape (100,2) representing coordinates, find point by point distances \n",
    "\n",
    "from scipy.spatial.distance import cdist\n",
    "\n",
    "# Generate a random vector with shape (100, 2) representing coordinates\n",
    "random_coordinates = np.random.rand(100, 2)\n",
    "\n",
    "# Compute pairwise distances\n",
    "distances = cdist(random_coordinates, random_coordinates)\n",
    "\n",
    "# Print the distances matrix\n",
    "print(distances)\n"
   ]
  },
  {
   "cell_type": "code",
   "execution_count": 3,
   "metadata": {},
   "outputs": [
    {
     "name": "stdout",
     "output_type": "stream",
     "text": [
      "Original Float Array: [1.23 4.56 7.89]\n",
      "Converted Int Array: [1067282596 1083304837 1090288353]\n"
     ]
    }
   ],
   "source": [
    "#53. How to convert a float (32 bits) array into an integer (32 bits) in place?\n",
    "\n",
    "# Create a float32 array\n",
    "float_array = np.array([1.23, 4.56, 7.89], dtype=np.float32)\n",
    "\n",
    "# Convert the float32 array to int32 in place\n",
    "int_array = float_array.view(np.int32)\n",
    "\n",
    "# Print the original float array and the converted int array\n",
    "print(\"Original Float Array:\", float_array)\n",
    "print(\"Converted Int Array:\", int_array)\n"
   ]
  },
  {
   "cell_type": "code",
   "execution_count": 5,
   "metadata": {},
   "outputs": [
    {
     "name": "stdout",
     "output_type": "stream",
     "text": [
      "[[ 1.  2.  3.  4.  5.]\n",
      " [ 6. nan nan  7.  8.]\n",
      " [nan nan  9. 10. 11.]]\n"
     ]
    }
   ],
   "source": [
    "#54. How to read the following file?\n",
    "\n",
    "\n",
    "data_str = \"\"\"1, 2, 3, 4, 5\n",
    "6,  ,  , 7, 8\n",
    " ,  , 9, 10, 11\"\"\"\n",
    "\n",
    "# Split the string into lines and then into values\n",
    "lines = data_str.strip().split('\\n')\n",
    "data = [[float(val.strip()) if val.strip() else np.nan for val in line.split(',')] for line in lines]\n",
    "\n",
    "# Convert the data into a NumPy array\n",
    "data = np.array(data)\n",
    "\n",
    "print(data)"
   ]
  },
  {
   "cell_type": "code",
   "execution_count": 6,
   "metadata": {},
   "outputs": [
    {
     "name": "stdout",
     "output_type": "stream",
     "text": [
      "(0, 0) 1\n",
      "(0, 1) 2\n",
      "(1, 0) 3\n",
      "(1, 1) 4\n",
      "(2, 0) 5\n",
      "(2, 1) 6\n"
     ]
    }
   ],
   "source": [
    "#55. What is the equivalent of enumerate for numpy arrays?\n",
    "\n",
    "\n",
    "arr = np.array([[1, 2], [3, 4], [5, 6]])\n",
    "\n",
    "for index, value in np.ndenumerate(arr):\n",
    "    print(index, value)"
   ]
  },
  {
   "cell_type": "code",
   "execution_count": 7,
   "metadata": {},
   "outputs": [
    {
     "name": "stdout",
     "output_type": "stream",
     "text": [
      "[[0.36787944 0.53526143 0.60653066 0.53526143 0.36787944]\n",
      " [0.53526143 0.77880078 0.8824969  0.77880078 0.53526143]\n",
      " [0.60653066 0.8824969  1.         0.8824969  0.60653066]\n",
      " [0.53526143 0.77880078 0.8824969  0.77880078 0.53526143]\n",
      " [0.36787944 0.53526143 0.60653066 0.53526143 0.36787944]]\n"
     ]
    }
   ],
   "source": [
    "#56. Generate a generic 2D Gaussian-like array\n",
    "\n",
    "\n",
    "def gaussian_2d(shape, sigma=1.0):\n",
    "    \"\"\"\n",
    "    Generate a 2D Gaussian-like array.\n",
    "\n",
    "    Parameters:\n",
    "        shape (tuple): Shape of the array (height, width).\n",
    "        sigma (float): Standard deviation of the Gaussian function.\n",
    "\n",
    "    Returns:\n",
    "        ndarray: 2D Gaussian-like array.\n",
    "    \"\"\"\n",
    "    # Create a grid of indices centered at the middle of the array\n",
    "    x = np.linspace(-1, 1, shape[1])\n",
    "    y = np.linspace(-1, 1, shape[0])\n",
    "    xx, yy = np.meshgrid(x, y)\n",
    "    \n",
    "    # Calculate the Gaussian function\n",
    "    gaussian = np.exp(-(xx**2 + yy**2) / (2 * sigma**2))\n",
    "    \n",
    "    return gaussian\n",
    "\n",
    "# Example usage:\n",
    "shape = (5, 5)\n",
    "sigma = 1.0\n",
    "gaussian_array = gaussian_2d(shape, sigma)\n",
    "print(gaussian_array)"
   ]
  },
  {
   "cell_type": "code",
   "execution_count": 8,
   "metadata": {},
   "outputs": [
    {
     "name": "stdout",
     "output_type": "stream",
     "text": [
      "[[0 0 0 0 0]\n",
      " [1 0 0 1 0]\n",
      " [0 0 0 1 0]\n",
      " [0 0 1 0 0]\n",
      " [0 1 0 0 0]]\n"
     ]
    }
   ],
   "source": [
    "#57. How to randomly place p elements in a 2D array?\n",
    "\n",
    "\n",
    "def random_placement_2d_array(shape, p):\n",
    "    \"\"\"\n",
    "    Randomly place p elements in a 2D array.\n",
    "\n",
    "    Parameters:\n",
    "        shape (tuple): Shape of the 2D array (rows, columns).\n",
    "        p (int): Number of elements to randomly place.\n",
    "\n",
    "    Returns:\n",
    "        ndarray: 2D array with p elements randomly placed.\n",
    "    \"\"\"\n",
    "    # Create an empty 2D array\n",
    "    arr = np.zeros(shape, dtype=int)\n",
    "    \n",
    "    # Generate random indices\n",
    "    indices = np.random.choice(range(shape[0]*shape[1]), p, replace=False)\n",
    "    \n",
    "    # Assign random elements to those indices\n",
    "    arr.flat[indices] = 1\n",
    "    \n",
    "    return arr\n",
    "\n",
    "# Example usage:\n",
    "shape = (5, 5)\n",
    "p = 5\n",
    "random_array = random_placement_2d_array(shape, p)\n",
    "print(random_array)"
   ]
  },
  {
   "cell_type": "code",
   "execution_count": 9,
   "metadata": {},
   "outputs": [
    {
     "name": "stdout",
     "output_type": "stream",
     "text": [
      "Original Matrix:\n",
      "[[1 2 3]\n",
      " [4 5 6]\n",
      " [7 8 9]]\n",
      "\n",
      "Result Matrix after subtracting row means:\n",
      "[[-1.  0.  1.]\n",
      " [-1.  0.  1.]\n",
      " [-1.  0.  1.]]\n"
     ]
    }
   ],
   "source": [
    "#58. Subtract the mean of each row of a matrix\n",
    "\n",
    "\n",
    "# Example matrix\n",
    "matrix = np.array([[1, 2, 3],\n",
    "                   [4, 5, 6],\n",
    "                   [7, 8, 9]])\n",
    "\n",
    "# Calculate the mean of each row\n",
    "row_means = np.mean(matrix, axis=1, keepdims=True)\n",
    "\n",
    "# Subtract the mean of each row from the corresponding row\n",
    "result_matrix = matrix - row_means\n",
    "\n",
    "print(\"Original Matrix:\")\n",
    "print(matrix)\n",
    "print(\"\\nResult Matrix after subtracting row means:\")\n",
    "print(result_matrix)"
   ]
  },
  {
   "cell_type": "code",
   "execution_count": 10,
   "metadata": {},
   "outputs": [
    {
     "name": "stdout",
     "output_type": "stream",
     "text": [
      "Original Array:\n",
      "[[1 4 2]\n",
      " [3 1 5]\n",
      " [6 2 4]]\n",
      "\n",
      "Sorted Array by the nth column:\n",
      "[[3 1 5]\n",
      " [6 2 4]\n",
      " [1 4 2]]\n"
     ]
    }
   ],
   "source": [
    "#59. How to sort an array by the nth column?\n",
    "\n",
    "\n",
    "# Example array\n",
    "array = np.array([[1, 4, 2],\n",
    "                  [3, 1, 5],\n",
    "                  [6, 2, 4]])\n",
    "\n",
    "# Sort by the nth column (0-based indexing)\n",
    "n = 1\n",
    "sorted_indices = np.argsort(array[:, n])\n",
    "\n",
    "# Rearrange the rows of the array based on the sorted indices\n",
    "sorted_array = array[sorted_indices]\n",
    "\n",
    "print(\"Original Array:\")\n",
    "print(array)\n",
    "print(\"\\nSorted Array by the nth column:\")\n",
    "print(sorted_array)"
   ]
  },
  {
   "cell_type": "code",
   "execution_count": 11,
   "metadata": {},
   "outputs": [
    {
     "name": "stdout",
     "output_type": "stream",
     "text": [
      "Array with null columns:\n",
      "[[1 0 3]\n",
      " [0 0 0]\n",
      " [4 0 6]]\n",
      "Has null columns: True\n",
      "\n",
      "Array without null columns:\n",
      "[[1 2 3]\n",
      " [4 5 6]\n",
      " [7 8 9]]\n",
      "Has null columns: False\n"
     ]
    }
   ],
   "source": [
    "#60. How to tell if a given 2D array has null columns?\n",
    "\n",
    "\n",
    "def has_null_columns(array):\n",
    "    \"\"\"\n",
    "    Check if a given 2D array has null columns.\n",
    "\n",
    "    Parameters:\n",
    "        array (ndarray): 2D array to check.\n",
    "\n",
    "    Returns:\n",
    "        bool: True if array has null columns, False otherwise.\n",
    "    \"\"\"\n",
    "    # Check if any column has all elements equal to zero\n",
    "    return np.any(np.all(array == 0, axis=0))\n",
    "\n",
    "# Example usage:\n",
    "array_with_null_columns = np.array([[1, 0, 3],\n",
    "                                    [0, 0, 0],\n",
    "                                    [4, 0, 6]])\n",
    "\n",
    "array_without_null_columns = np.array([[1, 2, 3],\n",
    "                                       [4, 5, 6],\n",
    "                                       [7, 8, 9]])\n",
    "\n",
    "print(\"Array with null columns:\")\n",
    "print(array_with_null_columns)\n",
    "print(\"Has null columns:\", has_null_columns(array_with_null_columns))\n",
    "\n",
    "print(\"\\nArray without null columns:\")\n",
    "print(array_without_null_columns)\n",
    "print(\"Has null columns:\", has_null_columns(array_without_null_columns))"
   ]
  },
  {
   "cell_type": "code",
   "execution_count": 12,
   "metadata": {},
   "outputs": [
    {
     "name": "stdout",
     "output_type": "stream",
     "text": [
      "Nearest value to 6 in the array is: 5\n"
     ]
    }
   ],
   "source": [
    "#61. Find the nearest value from a given value in an array\n",
    "import numpy as np\n",
    "\n",
    "def find_nearest_value(array, value):\n",
    "    \"\"\"\n",
    "    Find the nearest value from a given value in an array.\n",
    "\n",
    "    Parameters:\n",
    "        array (ndarray): Input array.\n",
    "        value (float or int): The value to find the nearest value to.\n",
    "\n",
    "    Returns:\n",
    "        float or int: Nearest value from the given value in the array.\n",
    "    \"\"\"\n",
    "    # Compute absolute differences between array elements and the given value\n",
    "    absolute_diff = np.abs(array - value)\n",
    "    \n",
    "    # Find the index of the minimum difference\n",
    "    nearest_index = np.argmin(absolute_diff)\n",
    "    \n",
    "    return array[nearest_index]\n",
    "\n",
    "# Example usage:\n",
    "array = np.array([1, 3, 5, 7, 9])\n",
    "value = 6\n",
    "nearest_value = find_nearest_value(array, value)\n",
    "print(\"Nearest value to\", value, \"in the array is:\", nearest_value)#"
   ]
  },
  {
   "cell_type": "code",
   "execution_count": 13,
   "metadata": {},
   "outputs": [
    {
     "name": "stdout",
     "output_type": "stream",
     "text": [
      "Sum of the arrays: 21\n"
     ]
    }
   ],
   "source": [
    "#62. Considering two arrays with shape (1,3) and (3,1), how to compute their sum using an iterator?\n",
    "\n",
    "\n",
    "# Define two arrays with shapes (1, 3) and (3, 1)\n",
    "array1 = np.array([[1, 2, 3]])\n",
    "array2 = np.array([[4], [5], [6]])\n",
    "\n",
    "# Initialize the sum\n",
    "total_sum = 0\n",
    "\n",
    "# Create iterators for both arrays\n",
    "iter1 = np.nditer(array1)\n",
    "iter2 = np.nditer(array2)\n",
    "\n",
    "# Iterate over both arrays simultaneously and compute the sum\n",
    "for elem1, elem2 in zip(iter1, iter2):\n",
    "    total_sum += elem1 + elem2\n",
    "\n",
    "print(\"Sum of the arrays:\", total_sum)"
   ]
  },
  {
   "cell_type": "code",
   "execution_count": 14,
   "metadata": {},
   "outputs": [
    {
     "name": "stdout",
     "output_type": "stream",
     "text": [
      "MyArray: [1, 2, 3, 4]\n",
      "MyArray: [1, 2, 3, 4, 5]\n",
      "3\n",
      "MyArray: [1, 2, 10, 4, 5]\n",
      "5\n"
     ]
    }
   ],
   "source": [
    "#63. Create an array class that has a name attribute\n",
    "class NamedArray:\n",
    "    def __init__(self, name, *args):\n",
    "        self.name = name\n",
    "        self.array = list(args)\n",
    "\n",
    "    def __repr__(self):\n",
    "        return f'{self.name}: {self.array}'\n",
    "\n",
    "    def append(self, value):\n",
    "        self.array.append(value)\n",
    "\n",
    "    def pop(self):\n",
    "        return self.array.pop()\n",
    "\n",
    "    def __getitem__(self, index):\n",
    "        return self.array[index]\n",
    "\n",
    "    def __setitem__(self, index, value):\n",
    "        self.array[index] = value\n",
    "\n",
    "    def __len__(self):\n",
    "        return len(self.array)\n",
    "\n",
    "# Example usage:\n",
    "arr = NamedArray(\"MyArray\", 1, 2, 3, 4)\n",
    "print(arr)  \n",
    "\n",
    "arr.append(5)\n",
    "print(arr)  \n",
    "\n",
    "print(arr[2]) \n",
    "\n",
    "arr[2] = 10\n",
    "print(arr) \n",
    "\n",
    "print(len(arr))  "
   ]
  },
  {
   "cell_type": "code",
   "execution_count": 15,
   "metadata": {},
   "outputs": [
    {
     "name": "stdout",
     "output_type": "stream",
     "text": [
      "Original vector: [1 2 3 4 5]\n",
      "Indices vector: [0 1 3 1 4 3]\n",
      "Result vector: [2 3 3 5 6]\n"
     ]
    }
   ],
   "source": [
    "#64. Consider a given vector, how to add 1 to each element indexed by a second vector (be careful with repeated indices)?\n",
    "\n",
    "\n",
    "# Given vector\n",
    "given_vector = np.array([1, 2, 3, 4, 5])\n",
    "\n",
    "# Second vector representing indices\n",
    "indices_vector = np.array([0, 1, 3, 1, 4, 3])\n",
    "\n",
    "# Find unique indices to avoid repeated addition\n",
    "unique_indices = np.unique(indices_vector)\n",
    "\n",
    "# Create a new vector to store the result\n",
    "result_vector = given_vector.copy()\n",
    "\n",
    "# Add 1 to elements indexed by unique indices\n",
    "result_vector[unique_indices] += 1\n",
    "\n",
    "print(\"Original vector:\", given_vector)\n",
    "print(\"Indices vector:\", indices_vector)\n",
    "print(\"Result vector:\", result_vector)\n"
   ]
  },
  {
   "cell_type": "code",
   "execution_count": 16,
   "metadata": {},
   "outputs": [
    {
     "name": "stdout",
     "output_type": "stream",
     "text": [
      "X: [1 2 3 4 5]\n",
      "I: [0 1 3 1 4 3]\n",
      "F: [1 2 0 2 1]\n"
     ]
    }
   ],
   "source": [
    "#65. How to accumulate elements of a vector (X) to an array (F) based on an index list (I)?\n",
    "\n",
    "\n",
    "# Example vectors\n",
    "X = np.array([1, 2, 3, 4, 5])\n",
    "I = np.array([0, 1, 3, 1, 4, 3])\n",
    "\n",
    "# Find the maximum index in I\n",
    "max_index = I.max()\n",
    "\n",
    "# Create array F initialized with zeros\n",
    "F = np.zeros(max_index + 1, dtype=int)\n",
    "\n",
    "# Use I as index array to accumulate elements of X into F\n",
    "np.add.at(F, I, 1)\n",
    "\n",
    "print(\"X:\", X)\n",
    "print(\"I:\", I)\n",
    "print(\"F:\", F)"
   ]
  },
  {
   "cell_type": "code",
   "execution_count": 17,
   "metadata": {},
   "outputs": [
    {
     "name": "stdout",
     "output_type": "stream",
     "text": [
      "Number of unique colors: 9997\n"
     ]
    }
   ],
   "source": [
    "#66. Considering a (w,h,3) image of (dtype=ubyte), compute the number of unique colors\n",
    "\n",
    "\n",
    "# Example image data (replace this with your image data)\n",
    "image = np.random.randint(0, 256, size=(100, 100, 3), dtype=np.uint8)\n",
    "\n",
    "# Reshape the image to a 2D array where each row represents a pixel\n",
    "reshaped_image = image.reshape(-1, 3)\n",
    "\n",
    "# Convert the reshaped image to a list of tuples for easier comparison\n",
    "unique_colors = list(map(tuple, reshaped_image))\n",
    "\n",
    "# Find unique colors\n",
    "unique_colors = np.unique(unique_colors, axis=0)\n",
    "\n",
    "# Count the number of unique colors\n",
    "num_unique_colors = unique_colors.shape[0]\n",
    "\n",
    "print(\"Number of unique colors:\", num_unique_colors)"
   ]
  },
  {
   "cell_type": "code",
   "execution_count": 18,
   "metadata": {},
   "outputs": [
    {
     "name": "stdout",
     "output_type": "stream",
     "text": [
      "Original array shape: (3, 4, 5, 6)\n",
      "Sum over the last two axes shape: (3, 4)\n",
      "Sum over the last two axes:\n",
      "[[154 132 145 114]\n",
      " [117 126 119 105]\n",
      " [127 168 139 124]]\n"
     ]
    }
   ],
   "source": [
    "#67. Considering a four dimensions array, how to get sum over the last two axis at once?\n",
    "\n",
    "\n",
    "# Example four-dimensional array\n",
    "arr = np.random.randint(0, 10, size=(3, 4, 5, 6))\n",
    "\n",
    "# Get the sum over the last two axes\n",
    "sum_last_two_axes = np.sum(arr, axis=(-2, -1))\n",
    "\n",
    "print(\"Original array shape:\", arr.shape)\n",
    "print(\"Sum over the last two axes shape:\", sum_last_two_axes.shape)\n",
    "print(\"Sum over the last two axes:\")\n",
    "print(sum_last_two_axes)"
   ]
  },
  {
   "cell_type": "code",
   "execution_count": 19,
   "metadata": {},
   "outputs": [
    {
     "name": "stdout",
     "output_type": "stream",
     "text": [
      "Vector D: [1 2 3 4 5 6]\n",
      "Subset indices vector S: [0 0 1 1 2 2]\n",
      "Means of subsets: [1.5 3.5 5.5]\n"
     ]
    }
   ],
   "source": [
    "#68. Considering a one-dimensional vector D, how to compute means of subsets of D using a vector S of same size describing subset indices?\n",
    "\n",
    "\n",
    "# Example one-dimensional vector D and subset indices vector S\n",
    "D = np.array([1, 2, 3, 4, 5, 6])\n",
    "S = np.array([0, 0, 1, 1, 2, 2])\n",
    "\n",
    "# Find unique subset indices and their counts\n",
    "unique_indices, counts = np.unique(S, return_counts=True)\n",
    "\n",
    "# Compute the means of subsets\n",
    "subset_means = np.zeros_like(unique_indices, dtype=float)\n",
    "for i, idx in enumerate(unique_indices):\n",
    "    subset = D[S == idx]\n",
    "    subset_means[i] = np.mean(subset)\n",
    "\n",
    "print(\"Vector D:\", D)\n",
    "print(\"Subset indices vector S:\", S)\n",
    "print(\"Means of subsets:\", subset_means)"
   ]
  },
  {
   "cell_type": "code",
   "execution_count": 20,
   "metadata": {},
   "outputs": [
    {
     "name": "stdout",
     "output_type": "stream",
     "text": [
      "Dot product of A and B:\n",
      "[[ 30  24  18]\n",
      " [ 84  69  54]\n",
      " [138 114  90]]\n",
      "\n",
      "Diagonal of the dot product:\n",
      "[30 69 90]\n"
     ]
    }
   ],
   "source": [
    "#69. How to get the diagonal of a dot product?\n",
    "\n",
    "\n",
    "# Example matrices A and B\n",
    "A = np.array([[1, 2, 3],\n",
    "              [4, 5, 6],\n",
    "              [7, 8, 9]])\n",
    "\n",
    "B = np.array([[9, 8, 7],\n",
    "              [6, 5, 4],\n",
    "              [3, 2, 1]])\n",
    "\n",
    "# Compute the dot product of A and B\n",
    "dot_product = np.dot(A, B)\n",
    "\n",
    "# Get the diagonal of the dot product\n",
    "diagonal = np.diag(dot_product)\n",
    "\n",
    "print(\"Dot product of A and B:\")\n",
    "print(dot_product)\n",
    "\n",
    "print(\"\\nDiagonal of the dot product:\")\n",
    "print(diagonal)"
   ]
  },
  {
   "cell_type": "code",
   "execution_count": 21,
   "metadata": {},
   "outputs": [
    {
     "name": "stdout",
     "output_type": "stream",
     "text": [
      "Original vector: [1 2 3 4 5]\n",
      "New vector with 3 consecutive zeros interleaved: [1 0 0 0 2 0 0 0 3 0 0 0 4 0 0 0 5]\n"
     ]
    }
   ],
   "source": [
    "#70. Consider the vector [1, 2, 3, 4, 5], how to build a new vector with 3 consecutive zeros interleaved between each value?\n",
    "\n",
    "\n",
    "# Original vector\n",
    "original_vector = np.array([1, 2, 3, 4, 5])\n",
    "\n",
    "# Number of consecutive zeros to insert between each value\n",
    "num_zeros = 3\n",
    "\n",
    "# Calculate the length of the new vector\n",
    "new_length = len(original_vector) + (len(original_vector) - 1) * num_zeros\n",
    "\n",
    "# Initialize the new vector with zeros\n",
    "new_vector = np.zeros(new_length, dtype=original_vector.dtype)\n",
    "\n",
    "# Assign values from the original vector to the interleaved positions\n",
    "new_vector[::num_zeros+1] = original_vector\n",
    "\n",
    "print(\"Original vector:\", original_vector)\n",
    "print(\"New vector with 3 consecutive zeros interleaved:\", new_vector)"
   ]
  },
  {
   "cell_type": "code",
   "execution_count": 22,
   "metadata": {},
   "outputs": [
    {
     "name": "stdout",
     "output_type": "stream",
     "text": [
      "Array with dimensions (5, 5, 3):\n",
      "[[[5 8 6]\n",
      "  [2 4 5]\n",
      "  [4 2 9]\n",
      "  [3 2 3]\n",
      "  [4 2 4]]\n",
      "\n",
      " [[1 5 1]\n",
      "  [2 5 6]\n",
      "  [5 7 4]\n",
      "  [1 3 8]\n",
      "  [7 6 3]]\n",
      "\n",
      " [[4 9 2]\n",
      "  [1 2 4]\n",
      "  [7 2 3]\n",
      "  [3 4 5]\n",
      "  [9 2 2]]\n",
      "\n",
      " [[9 4 3]\n",
      "  [7 4 9]\n",
      "  [4 6 2]\n",
      "  [9 1 3]\n",
      "  [2 1 2]]\n",
      "\n",
      " [[3 1 6]\n",
      "  [4 5 1]\n",
      "  [1 6 8]\n",
      "  [5 3 1]\n",
      "  [7 7 1]]]\n",
      "\n",
      "Array with dimensions (5, 5):\n",
      "[[1 9 5 2 2]\n",
      " [5 2 5 8 5]\n",
      " [9 7 8 4 2]\n",
      " [2 2 3 8 3]\n",
      " [4 3 8 1 1]]\n",
      "\n",
      "Result of multiplication:\n",
      "[[[ 5  8  6]\n",
      "  [18 36 45]\n",
      "  [20 10 45]\n",
      "  [ 6  4  6]\n",
      "  [ 8  4  8]]\n",
      "\n",
      " [[ 5 25  5]\n",
      "  [ 4 10 12]\n",
      "  [25 35 20]\n",
      "  [ 8 24 64]\n",
      "  [35 30 15]]\n",
      "\n",
      " [[36 81 18]\n",
      "  [ 7 14 28]\n",
      "  [56 16 24]\n",
      "  [12 16 20]\n",
      "  [18  4  4]]\n",
      "\n",
      " [[18  8  6]\n",
      "  [14  8 18]\n",
      "  [12 18  6]\n",
      "  [72  8 24]\n",
      "  [ 6  3  6]]\n",
      "\n",
      " [[12  4 24]\n",
      "  [12 15  3]\n",
      "  [ 8 48 64]\n",
      "  [ 5  3  1]\n",
      "  [ 7  7  1]]]\n"
     ]
    }
   ],
   "source": [
    "#71. Consider an array of dimension (5,5,3), how to mulitply it by an array with dimensions (5,5)?\n",
    "\n",
    "\n",
    "# Create arrays\n",
    "array_3d = np.random.randint(1, 10, size=(5, 5, 3))\n",
    "array_2d = np.random.randint(1, 10, size=(5, 5))\n",
    "\n",
    "# Perform element-wise multiplication\n",
    "result = array_3d * array_2d[:, :, None]\n",
    "\n",
    "print(\"Array with dimensions (5, 5, 3):\")\n",
    "print(array_3d)\n",
    "print(\"\\nArray with dimensions (5, 5):\")\n",
    "print(array_2d)\n",
    "print(\"\\nResult of multiplication:\")\n",
    "print(result)"
   ]
  },
  {
   "cell_type": "code",
   "execution_count": 23,
   "metadata": {},
   "outputs": [
    {
     "name": "stdout",
     "output_type": "stream",
     "text": [
      "Array after swapping rows:\n",
      "[[7 8 9]\n",
      " [4 5 6]\n",
      " [1 2 3]]\n"
     ]
    }
   ],
   "source": [
    "#72. How to swap two rows of an array?\n",
    "\n",
    "\n",
    "# Create an example array\n",
    "array = np.array([[1, 2, 3],\n",
    "                  [4, 5, 6],\n",
    "                  [7, 8, 9]])\n",
    "\n",
    "# Rows to swap\n",
    "row1_index = 0\n",
    "row2_index = 2\n",
    "\n",
    "# Swap rows\n",
    "temp_row = np.copy(array[row1_index])\n",
    "array[row1_index] = array[row2_index]\n",
    "array[row2_index] = temp_row\n",
    "\n",
    "print(\"Array after swapping rows:\")\n",
    "print(array)"
   ]
  },
  {
   "cell_type": "code",
   "execution_count": 24,
   "metadata": {},
   "outputs": [
    {
     "name": "stdout",
     "output_type": "stream",
     "text": [
      "Unique line segments composing all the triangles:\n",
      "((1, 0), (0, 1))\n",
      "((3, 0), (2, 1))\n",
      "((5, 0), (4, 1))\n",
      "((3, 1), (4, 0))\n",
      "((1, 1), (2, 1))\n",
      "((5, 0), (5, 1))\n",
      "((1, 0), (2, 0))\n",
      "((3, 1), (4, 1))\n",
      "((4, 0), (3, 1))\n",
      "((0, 0), (1, 0))\n",
      "((2, 1), (3, 0))\n",
      "((3, 0), (3, 1))\n",
      "((0, 1), (1, 0))\n",
      "((4, 0), (5, 0))\n",
      "((2, 1), (3, 1))\n",
      "((2, 0), (2, 1))\n",
      "((2, 0), (1, 1))\n",
      "((0, 1), (1, 1))\n",
      "((4, 1), (5, 0))\n",
      "((1, 0), (1, 1))\n",
      "((1, 1), (2, 0))\n",
      "((0, 0), (0, 1))\n",
      "((4, 1), (5, 1))\n",
      "((2, 0), (3, 0))\n",
      "((4, 0), (4, 1))\n",
      "((3, 0), (4, 0))\n"
     ]
    }
   ],
   "source": [
    "#73. Consider a set of 10 triplets describing 10 triangles (with shared vertices), find the set of unique line segments composing all the triangles\n",
    "# Example set of 10 triplets describing triangles\n",
    "triangles = [\n",
    "    [(0, 0), (1, 0), (0, 1)],\n",
    "    [(0, 1), (1, 0), (1, 1)],\n",
    "    [(1, 0), (2, 0), (1, 1)],\n",
    "    [(1, 1), (2, 0), (2, 1)],\n",
    "    [(2, 0), (3, 0), (2, 1)],\n",
    "    [(2, 1), (3, 0), (3, 1)],\n",
    "    [(3, 0), (4, 0), (3, 1)],\n",
    "    [(3, 1), (4, 0), (4, 1)],\n",
    "    [(4, 0), (5, 0), (4, 1)],\n",
    "    [(4, 1), (5, 0), (5, 1)]\n",
    "]\n",
    "\n",
    "# Set to store unique line segments\n",
    "unique_segments = set()\n",
    "\n",
    "# Iterate over each triangle\n",
    "for triangle in triangles:\n",
    "    # Extract line segments from the triangle\n",
    "    segments = [(triangle[i], triangle[j]) for i in range(3) for j in range(i+1, 3)]\n",
    "    # Add line segments to the set\n",
    "    unique_segments.update(segments)\n",
    "\n",
    "print(\"Unique line segments composing all the triangles:\")\n",
    "for segment in unique_segments:\n",
    "    print(segment)"
   ]
  },
  {
   "cell_type": "code",
   "execution_count": 25,
   "metadata": {},
   "outputs": [
    {
     "name": "stdout",
     "output_type": "stream",
     "text": [
      "Array C (bincount): [1 2 0 2 1 0 0 1 0 1]\n",
      "Reconstructed array A: [0 1 1 3 3 4 7 9]\n",
      "Result of bincount on A: [1 2 0 2 1 0 0 1 0 1]\n",
      "Are the bincounts equal? True\n"
     ]
    }
   ],
   "source": [
    "#74. Given a sorted array C that corresponds to a bincount, how to produce an array A such that np.bincount(A) == C?\n",
    "\n",
    "\n",
    "def reconstruct_array_from_bincount(C):\n",
    "    # Generate the output array A\n",
    "    A = np.repeat(np.arange(len(C)), C)\n",
    "    \n",
    "    return A\n",
    "\n",
    "# Example sorted array C\n",
    "C = np.array([1, 2, 0, 2, 1, 0, 0, 1, 0, 1])\n",
    "\n",
    "# Reconstruct array A\n",
    "A = reconstruct_array_from_bincount(C)\n",
    "\n",
    "print(\"Array C (bincount):\", C)\n",
    "print(\"Reconstructed array A:\", A)\n",
    "print(\"Result of bincount on A:\", np.bincount(A))\n",
    "print(\"Are the bincounts equal?\", np.array_equal(np.bincount(A), C))"
   ]
  },
  {
   "cell_type": "code",
   "execution_count": 26,
   "metadata": {},
   "outputs": [
    {
     "name": "stdout",
     "output_type": "stream",
     "text": [
      "Original array: [ 1  2  3  4  5  6  7  8  9 10]\n",
      "Sliding window averages with window size 3 : [2. 3. 4. 5. 6. 7. 8. 9.]\n"
     ]
    }
   ],
   "source": [
    "#75. How to compute averages using a sliding window over an array?\n",
    "\n",
    "\n",
    "def sliding_window_average(arr, window_size):\n",
    "    # Create a 1D array of ones with the size of the window\n",
    "    window = np.ones(window_size)\n",
    "    # Compute the sum of elements in the sliding window using convolution\n",
    "    window_sum = np.convolve(arr, window, mode='valid')\n",
    "    # Compute the number of elements in each sliding window\n",
    "    counts = np.convolve(np.ones_like(arr), window, mode='valid')\n",
    "    # Compute the averages\n",
    "    averages = window_sum / counts\n",
    "    return averages\n",
    "\n",
    "# Example array\n",
    "arr = np.array([1, 2, 3, 4, 5, 6, 7, 8, 9, 10])\n",
    "\n",
    "# Sliding window size\n",
    "window_size = 3\n",
    "\n",
    "# Compute sliding window averages\n",
    "averages = sliding_window_average(arr, window_size)\n",
    "\n",
    "print(\"Original array:\", arr)\n",
    "print(\"Sliding window averages with window size\", window_size, \":\", averages)"
   ]
  },
  {
   "cell_type": "code",
   "execution_count": 27,
   "metadata": {},
   "outputs": [
    {
     "name": "stdout",
     "output_type": "stream",
     "text": [
      "Original array Z: [1 2 3 4 5 6 7 8 9]\n",
      "Two-dimensional array:\n",
      "[[1 2 3 4 5 6 7]\n",
      " [0 1 2 3 4 5 6]\n",
      " [0 0 1 2 3 4 5]\n",
      " [0 0 0 1 2 3 4]\n",
      " [0 0 0 0 1 2 3]\n",
      " [0 0 0 0 0 1 2]\n",
      " [0 0 0 0 0 0 1]]\n"
     ]
    }
   ],
   "source": [
    "#76. Consider a one-dimensional array Z, build a two-dimensional array whose first row is (Z[0],Z[1],Z[2]) and each subsequent row is shifted by 1 (last row should be (Z[-3],Z[-2],Z[-1])\n",
    "\n",
    "\n",
    "def shift_array(arr, num_shifts):\n",
    "    \"\"\"\n",
    "    Shifts the elements of the array to the right by num_shifts positions.\n",
    "    \"\"\"\n",
    "    shifted = np.zeros_like(arr)\n",
    "    shifted[num_shifts:] = arr[:-num_shifts]\n",
    "    return shifted\n",
    "\n",
    "def build_two_dimensional_array(Z, num_rows):\n",
    "    \"\"\"\n",
    "    Builds a two-dimensional array where each row is shifted by 1 from the previous row.\n",
    "    \"\"\"\n",
    "    # Create an empty 2D array\n",
    "    result = np.zeros((num_rows, len(Z) - 2), dtype=Z.dtype)\n",
    "    \n",
    "    # Fill the first row with the original array\n",
    "    result[0] = Z[:len(Z) - 2]\n",
    "    \n",
    "    # Shift subsequent rows\n",
    "    for i in range(1, num_rows):\n",
    "        result[i] = shift_array(result[i - 1], 1)\n",
    "    \n",
    "    return result\n",
    "\n",
    "# Example one-dimensional array\n",
    "Z = np.array([1, 2, 3, 4, 5, 6, 7, 8, 9])\n",
    "\n",
    "# Number of rows in the two-dimensional array\n",
    "num_rows = len(Z) - 2\n",
    "\n",
    "# Build the two-dimensional array\n",
    "result = build_two_dimensional_array(Z, num_rows)\n",
    "\n",
    "print(\"Original array Z:\", Z)\n",
    "print(\"Two-dimensional array:\")\n",
    "print(result)"
   ]
  },
  {
   "cell_type": "code",
   "execution_count": 28,
   "metadata": {},
   "outputs": [
    {
     "name": "stdout",
     "output_type": "stream",
     "text": [
      "Negated boolean: False\n"
     ]
    }
   ],
   "source": [
    "#77. How to negate a boolean, or to change the sign of a float inplace?\n",
    "# Original boolean value\n",
    "boolean_value = True\n",
    "\n",
    "# Negate the boolean in-place\n",
    "boolean_value ^= True  # Equivalent to boolean_value = not boolean_value\n",
    "\n",
    "print(\"Negated boolean:\", boolean_value)"
   ]
  },
  {
   "cell_type": "code",
   "execution_count": 29,
   "metadata": {},
   "outputs": [
    {
     "name": "stdout",
     "output_type": "stream",
     "text": [
      "Distances to each line segment: [0.20000000000000018, 1.3867504905630728, 1.671258043593467]\n"
     ]
    }
   ],
   "source": [
    "#78. Consider 2 sets of points P0,P1 describing lines (2d) and a point p, how to compute distance from p to each line i (P0[i],P1[i])?\n",
    "\n",
    "\n",
    "def distance_to_line_segment(P0, P1, p):\n",
    "    # Vector from P0 to P1\n",
    "    v = P1 - P0\n",
    "    # Vector from P0 to p\n",
    "    w = p - P0\n",
    "    \n",
    "    # Dot product of v and w\n",
    "    vw_dot = np.dot(v, w)\n",
    "    # Dot product of v and v\n",
    "    vv_dot = np.dot(v, v)\n",
    "    \n",
    "    # Compute the parameter t\n",
    "    t = np.clip(vw_dot / vv_dot, 0, 1)\n",
    "    \n",
    "    # Closest point on the line segment to the point p\n",
    "    closest_point = P0 + t * v\n",
    "    \n",
    "    # Distance between p and the closest point\n",
    "    distance = np.linalg.norm(p - closest_point)\n",
    "    \n",
    "    return distance\n",
    "\n",
    "# Example sets of points\n",
    "P0 = np.array([[1, 1], [2, 3], [4, 2]])\n",
    "P1 = np.array([[4, 5], [5, 1], [6, 7]])\n",
    "p = np.array([3, 4])\n",
    "\n",
    "# Compute distance from p to each line segment\n",
    "distances = [distance_to_line_segment(P0[i], P1[i], p) for i in range(len(P0))]\n",
    "\n",
    "print(\"Distances to each line segment:\", distances)"
   ]
  },
  {
   "cell_type": "code",
   "execution_count": 30,
   "metadata": {},
   "outputs": [
    {
     "name": "stdout",
     "output_type": "stream",
     "text": [
      "Distances from each point in P to each line segment:\n",
      "[[0.2        1.39312598 1.68807583]\n",
      " [1.30769231 0.83205029 2.        ]\n",
      " [1.41421356 4.18550241 0.55708601]]\n"
     ]
    }
   ],
   "source": [
    "#79. Consider 2 sets of points P0,P1 describing lines (2d) and a set of points P, how to compute distance from each point j (P[j]) to each line i (P0[i],P1[i])?\n",
    "\n",
    "\n",
    "def distance_to_line_segment(P0, P1, P):\n",
    "    # Vector from P0 to P1\n",
    "    v = P1 - P0\n",
    "    # Vector from P0 to each point in P\n",
    "    w = P[:, None] - P0\n",
    "    \n",
    "    # Dot product of v and w\n",
    "    vw_dot = np.sum(v * w, axis=2)\n",
    "    # Dot product of v and v\n",
    "    vv_dot = np.sum(v * v, axis=1)\n",
    "    \n",
    "    # Compute the parameter t\n",
    "    t = np.clip(vw_dot / vv_dot[:, None], 0, 1)\n",
    "    \n",
    "    # Closest point on the line segment to each point in P\n",
    "    closest_point = P0[None, ...] + t[..., None] * v[None, ...]\n",
    "    \n",
    "    # Distance between each point in P and the closest point on the line segment\n",
    "    distances = np.linalg.norm(P[:, None] - closest_point, axis=2)\n",
    "    \n",
    "    return distances\n",
    "\n",
    "# Example sets of points\n",
    "P0 = np.array([[1, 1], [2, 3], [4, 2]])\n",
    "P1 = np.array([[4, 5], [5, 1], [6, 7]])\n",
    "P = np.array([[3, 4], [2, 2], [5, 6]])\n",
    "\n",
    "# Compute distance from each point in P to each line segment\n",
    "distances = distance_to_line_segment(P0, P1, P)\n",
    "\n",
    "print(\"Distances from each point in P to each line segment:\")\n",
    "print(distances)"
   ]
  },
  {
   "cell_type": "code",
   "execution_count": 31,
   "metadata": {},
   "outputs": [
    {
     "name": "stdout",
     "output_type": "stream",
     "text": [
      "Original array:\n",
      "[[1 2 3]\n",
      " [4 5 6]\n",
      " [7 8 9]]\n",
      "\n",
      "Extracted subpart with padding:\n",
      "[[1 2]\n",
      " [4 5]]\n"
     ]
    }
   ],
   "source": [
    "#80. Consider an arbitrary array, write a function that extract a subpart with a fixed shape and centered on a given element (pad with a fill value when necessary)\n",
    "\n",
    "\n",
    "def extract_subpart(arr, center, shape, fill_value=0):\n",
    "    # Calculate the start and end indices for each dimension\n",
    "    start_indices = np.maximum(center - np.array(shape) // 2, 0)\n",
    "    end_indices = start_indices + np.array(shape)\n",
    "    \n",
    "    # Calculate the slice for each dimension\n",
    "    slices = tuple(slice(start, end) for start, end in zip(start_indices, end_indices))\n",
    "    \n",
    "    # Extract the subpart\n",
    "    subpart = arr[slices]\n",
    "    \n",
    "    # Calculate the amount of padding needed\n",
    "    padding_before = np.maximum(np.array(shape) // 2 - center, 0)\n",
    "    padding_after = np.maximum(center + (np.array(shape) - np.array(arr.shape)) // 2, 0)\n",
    "    \n",
    "    # Pad the subpart if necessary\n",
    "    padded_subpart = np.pad(subpart, [(pad_before, pad_after) for pad_before, pad_after in zip(padding_before, padding_after)], mode='constant', constant_values=fill_value)\n",
    "    \n",
    "    return padded_subpart\n",
    "\n",
    "# Example arbitrary array\n",
    "arr = np.array([[1, 2, 3],\n",
    "                [4, 5, 6],\n",
    "                [7, 8, 9]])\n",
    "\n",
    "# Center element\n",
    "center = (1, 1)\n",
    "\n",
    "# Shape of the subpart\n",
    "shape = (2, 2)\n",
    "\n",
    "# Extract subpart with padding\n",
    "subpart = extract_subpart(arr, center, shape)\n",
    "\n",
    "print(\"Original array:\")\n",
    "print(arr)\n",
    "print(\"\\nExtracted subpart with padding:\")\n",
    "print(subpart)"
   ]
  },
  {
   "cell_type": "code",
   "execution_count": 32,
   "metadata": {},
   "outputs": [
    {
     "name": "stdout",
     "output_type": "stream",
     "text": [
      "Array R:\n",
      "[[ 1  2  3  4]\n",
      " [ 2  3  4  5]\n",
      " [ 3  4  5  6]\n",
      " [ 4  5  6  7]\n",
      " [ 5  6  7  8]\n",
      " [ 6  7  8  9]\n",
      " [ 7  8  9 10]\n",
      " [ 8  9 10 11]\n",
      " [ 9 10 11 12]\n",
      " [10 11 12 13]\n",
      " [11 12 13 14]]\n"
     ]
    }
   ],
   "source": [
    "#81. Consider an array Z = [1,2,3,4,5,6,7,8,9,10,11,12,13,14], how to generate an array R = [[1,2,3,4], [2,3,4,5], [3,4,5,6], ..., [11,12,13,14]]?\n",
    "\n",
    "\n",
    "# Given array Z\n",
    "Z = np.array([1, 2, 3, 4, 5, 6, 7, 8, 9, 10, 11, 12, 13, 14])\n",
    "\n",
    "# Define the window size\n",
    "window_size = 4\n",
    "\n",
    "# Calculate the number of subarrays\n",
    "num_subarrays = len(Z) - window_size + 1\n",
    "\n",
    "# Generate the array R using list comprehension and array slicing\n",
    "R = np.array([Z[i:i+window_size] for i in range(num_subarrays)])\n",
    "\n",
    "print(\"Array R:\")\n",
    "print(R)"
   ]
  },
  {
   "cell_type": "code",
   "execution_count": 33,
   "metadata": {},
   "outputs": [
    {
     "name": "stdout",
     "output_type": "stream",
     "text": [
      "Matrix:\n",
      "[[1 2 3]\n",
      " [4 5 6]\n",
      " [7 8 9]]\n",
      "\n",
      "Rank of the matrix: 2\n"
     ]
    }
   ],
   "source": [
    "#82. Compute a matrix rank\n",
    "\n",
    "\n",
    "# Example matrix\n",
    "matrix = np.array([[1, 2, 3],\n",
    "                   [4, 5, 6],\n",
    "                   [7, 8, 9]])\n",
    "\n",
    "# Compute the rank of the matrix\n",
    "rank = np.linalg.matrix_rank(matrix)\n",
    "\n",
    "print(\"Matrix:\")\n",
    "print(matrix)\n",
    "print(\"\\nRank of the matrix:\", rank)"
   ]
  },
  {
   "cell_type": "code",
   "execution_count": 34,
   "metadata": {},
   "outputs": [
    {
     "name": "stdout",
     "output_type": "stream",
     "text": [
      "Array: [1 2 3 2 2 3 4 5 4 4 4]\n",
      "Most frequent value: 4\n"
     ]
    }
   ],
   "source": [
    "#83. How to find the most frequent value in an array?\n",
    "\n",
    "\n",
    "# Example array\n",
    "arr = np.array([1, 2, 3, 2, 2, 3, 4, 5, 4, 4, 4])\n",
    "\n",
    "# Find the counts of each unique value in the array\n",
    "counts = np.bincount(arr)\n",
    "\n",
    "# Find the index of the most frequent value\n",
    "most_frequent_value = np.argmax(counts)\n",
    "\n",
    "print(\"Array:\", arr)\n",
    "print(\"Most frequent value:\", most_frequent_value)"
   ]
  },
  {
   "cell_type": "code",
   "execution_count": 35,
   "metadata": {},
   "outputs": [
    {
     "name": "stdout",
     "output_type": "stream",
     "text": [
      "Random 10x10 matrix:\n",
      "[[0 8 3 9 3 2 4 2 7 6]\n",
      " [2 3 5 9 2 5 0 2 7 9]\n",
      " [7 7 2 8 8 2 8 2 2 8]\n",
      " [4 4 4 5 4 7 7 1 8 3]\n",
      " [3 6 9 9 7 1 2 6 3 3]\n",
      " [6 4 2 6 9 9 3 6 4 0]\n",
      " [7 9 3 5 4 1 6 0 1 1]\n",
      " [4 8 9 6 5 4 3 0 7 1]\n",
      " [1 1 9 8 6 9 8 8 5 3]\n",
      " [8 1 6 3 3 7 5 6 7 3]]\n",
      "\n",
      "Extracted 3x3 blocks:\n",
      "[[0 8 3]\n",
      " [2 3 5]\n",
      " [7 7 2]]\n",
      "\n",
      "[[8 3 9]\n",
      " [3 5 9]\n",
      " [7 2 8]]\n",
      "\n",
      "[[3 9 3]\n",
      " [5 9 2]\n",
      " [2 8 8]]\n",
      "\n",
      "[[9 3 2]\n",
      " [9 2 5]\n",
      " [8 8 2]]\n",
      "\n",
      "[[3 2 4]\n",
      " [2 5 0]\n",
      " [8 2 8]]\n",
      "\n",
      "[[2 4 2]\n",
      " [5 0 2]\n",
      " [2 8 2]]\n",
      "\n",
      "[[4 2 7]\n",
      " [0 2 7]\n",
      " [8 2 2]]\n",
      "\n",
      "[[2 7 6]\n",
      " [2 7 9]\n",
      " [2 2 8]]\n",
      "\n",
      "[[2 3 5]\n",
      " [7 7 2]\n",
      " [4 4 4]]\n",
      "\n",
      "[[3 5 9]\n",
      " [7 2 8]\n",
      " [4 4 5]]\n",
      "\n",
      "[[5 9 2]\n",
      " [2 8 8]\n",
      " [4 5 4]]\n",
      "\n",
      "[[9 2 5]\n",
      " [8 8 2]\n",
      " [5 4 7]]\n",
      "\n",
      "[[2 5 0]\n",
      " [8 2 8]\n",
      " [4 7 7]]\n",
      "\n",
      "[[5 0 2]\n",
      " [2 8 2]\n",
      " [7 7 1]]\n",
      "\n",
      "[[0 2 7]\n",
      " [8 2 2]\n",
      " [7 1 8]]\n",
      "\n",
      "[[2 7 9]\n",
      " [2 2 8]\n",
      " [1 8 3]]\n",
      "\n",
      "[[7 7 2]\n",
      " [4 4 4]\n",
      " [3 6 9]]\n",
      "\n",
      "[[7 2 8]\n",
      " [4 4 5]\n",
      " [6 9 9]]\n",
      "\n",
      "[[2 8 8]\n",
      " [4 5 4]\n",
      " [9 9 7]]\n",
      "\n",
      "[[8 8 2]\n",
      " [5 4 7]\n",
      " [9 7 1]]\n",
      "\n",
      "[[8 2 8]\n",
      " [4 7 7]\n",
      " [7 1 2]]\n",
      "\n",
      "[[2 8 2]\n",
      " [7 7 1]\n",
      " [1 2 6]]\n",
      "\n",
      "[[8 2 2]\n",
      " [7 1 8]\n",
      " [2 6 3]]\n",
      "\n",
      "[[2 2 8]\n",
      " [1 8 3]\n",
      " [6 3 3]]\n",
      "\n",
      "[[4 4 4]\n",
      " [3 6 9]\n",
      " [6 4 2]]\n",
      "\n",
      "[[4 4 5]\n",
      " [6 9 9]\n",
      " [4 2 6]]\n",
      "\n",
      "[[4 5 4]\n",
      " [9 9 7]\n",
      " [2 6 9]]\n",
      "\n",
      "[[5 4 7]\n",
      " [9 7 1]\n",
      " [6 9 9]]\n",
      "\n",
      "[[4 7 7]\n",
      " [7 1 2]\n",
      " [9 9 3]]\n",
      "\n",
      "[[7 7 1]\n",
      " [1 2 6]\n",
      " [9 3 6]]\n",
      "\n",
      "[[7 1 8]\n",
      " [2 6 3]\n",
      " [3 6 4]]\n",
      "\n",
      "[[1 8 3]\n",
      " [6 3 3]\n",
      " [6 4 0]]\n",
      "\n",
      "[[3 6 9]\n",
      " [6 4 2]\n",
      " [7 9 3]]\n",
      "\n",
      "[[6 9 9]\n",
      " [4 2 6]\n",
      " [9 3 5]]\n",
      "\n",
      "[[9 9 7]\n",
      " [2 6 9]\n",
      " [3 5 4]]\n",
      "\n",
      "[[9 7 1]\n",
      " [6 9 9]\n",
      " [5 4 1]]\n",
      "\n",
      "[[7 1 2]\n",
      " [9 9 3]\n",
      " [4 1 6]]\n",
      "\n",
      "[[1 2 6]\n",
      " [9 3 6]\n",
      " [1 6 0]]\n",
      "\n",
      "[[2 6 3]\n",
      " [3 6 4]\n",
      " [6 0 1]]\n",
      "\n",
      "[[6 3 3]\n",
      " [6 4 0]\n",
      " [0 1 1]]\n",
      "\n",
      "[[6 4 2]\n",
      " [7 9 3]\n",
      " [4 8 9]]\n",
      "\n",
      "[[4 2 6]\n",
      " [9 3 5]\n",
      " [8 9 6]]\n",
      "\n",
      "[[2 6 9]\n",
      " [3 5 4]\n",
      " [9 6 5]]\n",
      "\n",
      "[[6 9 9]\n",
      " [5 4 1]\n",
      " [6 5 4]]\n",
      "\n",
      "[[9 9 3]\n",
      " [4 1 6]\n",
      " [5 4 3]]\n",
      "\n",
      "[[9 3 6]\n",
      " [1 6 0]\n",
      " [4 3 0]]\n",
      "\n",
      "[[3 6 4]\n",
      " [6 0 1]\n",
      " [3 0 7]]\n",
      "\n",
      "[[6 4 0]\n",
      " [0 1 1]\n",
      " [0 7 1]]\n",
      "\n",
      "[[7 9 3]\n",
      " [4 8 9]\n",
      " [1 1 9]]\n",
      "\n",
      "[[9 3 5]\n",
      " [8 9 6]\n",
      " [1 9 8]]\n",
      "\n",
      "[[3 5 4]\n",
      " [9 6 5]\n",
      " [9 8 6]]\n",
      "\n",
      "[[5 4 1]\n",
      " [6 5 4]\n",
      " [8 6 9]]\n",
      "\n",
      "[[4 1 6]\n",
      " [5 4 3]\n",
      " [6 9 8]]\n",
      "\n",
      "[[1 6 0]\n",
      " [4 3 0]\n",
      " [9 8 8]]\n",
      "\n",
      "[[6 0 1]\n",
      " [3 0 7]\n",
      " [8 8 5]]\n",
      "\n",
      "[[0 1 1]\n",
      " [0 7 1]\n",
      " [8 5 3]]\n",
      "\n",
      "[[4 8 9]\n",
      " [1 1 9]\n",
      " [8 1 6]]\n",
      "\n",
      "[[8 9 6]\n",
      " [1 9 8]\n",
      " [1 6 3]]\n",
      "\n",
      "[[9 6 5]\n",
      " [9 8 6]\n",
      " [6 3 3]]\n",
      "\n",
      "[[6 5 4]\n",
      " [8 6 9]\n",
      " [3 3 7]]\n",
      "\n",
      "[[5 4 3]\n",
      " [6 9 8]\n",
      " [3 7 5]]\n",
      "\n",
      "[[4 3 0]\n",
      " [9 8 8]\n",
      " [7 5 6]]\n",
      "\n",
      "[[3 0 7]\n",
      " [8 8 5]\n",
      " [5 6 7]]\n",
      "\n",
      "[[0 7 1]\n",
      " [8 5 3]\n",
      " [6 7 3]]\n",
      "\n"
     ]
    }
   ],
   "source": [
    "#84. Extract all the contiguous 3x3 blocks from a random 10x10 matrix\n",
    "\n",
    "\n",
    "# Create a random 10x10 matrix\n",
    "matrix = np.random.randint(0, 10, size=(10, 10))\n",
    "\n",
    "# Initialize a list to store the extracted 3x3 blocks\n",
    "blocks = []\n",
    "\n",
    "# Iterate over the rows\n",
    "for i in range(matrix.shape[0] - 2):\n",
    "    # Iterate over the columns\n",
    "    for j in range(matrix.shape[1] - 2):\n",
    "        # Extract the 3x3 block\n",
    "        block = matrix[i:i+3, j:j+3]\n",
    "        # Append the block to the list\n",
    "        blocks.append(block)\n",
    "\n",
    "# Convert the list of blocks into a NumPy array\n",
    "blocks_array = np.array(blocks)\n",
    "\n",
    "print(\"Random 10x10 matrix:\")\n",
    "print(matrix)\n",
    "print(\"\\nExtracted 3x3 blocks:\")\n",
    "for block in blocks_array:\n",
    "    print(block)\n",
    "    print()"
   ]
  },
  {
   "cell_type": "code",
   "execution_count": 38,
   "metadata": {},
   "outputs": [
    {
     "name": "stdout",
     "output_type": "stream",
     "text": [
      "[[1 2 3]\n",
      " [4 5 6]\n",
      " [7 8 9]]\n"
     ]
    }
   ],
   "source": [
    "#85. Create a 2D array subclass such that Z[i,j] == Z[j,i]\n",
    "\n",
    "\n",
    "class SymmetricArray(np.ndarray):\n",
    "    def __new__(cls, input_array):\n",
    "        obj = np.asarray(input_array).view(cls)\n",
    "        return obj\n",
    "\n",
    "    def __getitem__(self, index):\n",
    "        i, j = index\n",
    "        return super().__getitem__((i, j))\n",
    "\n",
    "    def __setitem__(self, index, value):\n",
    "        i, j = index\n",
    "        super().__setitem__((i, j), value)\n",
    "        super().__setitem__((j, i), value)\n",
    "\n",
    "# Example usage\n",
    "original_array = np.array([[1, 2, 3],\n",
    "                           [4, 5, 6],\n",
    "                           [7, 8, 9]])\n",
    "\n",
    "symmetric_array = SymmetricArray(original_array)\n",
    "\n",
    "# Print the symmetric array\n",
    "print(symmetric_array)\n"
   ]
  },
  {
   "cell_type": "code",
   "execution_count": 39,
   "metadata": {},
   "outputs": [
    {
     "name": "stdout",
     "output_type": "stream",
     "text": [
      "[[3.858609  ]\n",
      " [3.66122061]\n",
      " [4.61158456]\n",
      " [4.05392559]]\n"
     ]
    }
   ],
   "source": [
    "#86. Consider a set of p matrices with shape (n,n) and a set of p vectors with shape (n,1). How to compute the sum of of the p matrix products at once? (result has shape (n,1))\n",
    "\n",
    "\n",
    "# Example data (replace this with your actual data)\n",
    "p = 3\n",
    "n = 4\n",
    "matrices = np.random.rand(p, n, n)\n",
    "vectors = np.random.rand(p, n, 1)\n",
    "\n",
    "# Compute the sum of the matrix products\n",
    "result = np.einsum('ijk,ikl->ijl', matrices, vectors).sum(axis=0)\n",
    "\n",
    "# Print the result\n",
    "print(result)\n"
   ]
  },
  {
   "cell_type": "code",
   "execution_count": null,
   "metadata": {},
   "outputs": [],
   "source": [
    "#86. Consider a set of p matrices with shape (n,n) and a set of p vectors with shape (n,1). How to compute the sum of of the p matrix products at once? (result has shape (n,1))"
   ]
  },
  {
   "cell_type": "code",
   "execution_count": 36,
   "metadata": {},
   "outputs": [
    {
     "name": "stdout",
     "output_type": "stream",
     "text": [
      "Block sum (shape: (4, 4)):\n",
      "[[78 84 87 66]\n",
      " [82 76 86 64]\n",
      " [60 59 77 73]\n",
      " [67 77 64 57]]\n"
     ]
    }
   ],
   "source": [
    "#87. Consider a 16x16 array, how to get the block-sum (block size is 4x4)?\n",
    "\n",
    "\n",
    "# Create a random 16x16 array\n",
    "array = np.random.randint(0, 10, (16, 16))\n",
    "\n",
    "# Reshape the array into a 4D array of shape (4, 4, 4, 4)\n",
    "reshaped_array = array.reshape(4, 4, 4, 4)\n",
    "\n",
    "# Sum along the last two axes to get the block-sum\n",
    "block_sum = reshaped_array.sum(axis=(2, 3))\n",
    "\n",
    "print(\"Block sum (shape: {}):\".format(block_sum.shape))\n",
    "print(block_sum)"
   ]
  },
  {
   "cell_type": "code",
   "execution_count": 37,
   "metadata": {},
   "outputs": [
    {
     "name": "stderr",
     "output_type": "stream",
     "text": [
      "/var/folders/4k/mygtm1_96r7g77fdsqmbmb4m0000gn/T/ipykernel_67465/4025847301.py:38: UserWarning: You passed in an explicit save_count=50 which is being ignored in favor of frames=10.\n",
      "  ani = animation.FuncAnimation(fig, update, fargs=(img, grid, N),\n"
     ]
    },
    {
     "data": {
      "image/png": "[encoded data removed]",
      "text/plain": [
       "<Figure size 640x480 with 1 Axes>"
      ]
     },
     "metadata": {},
     "output_type": "display_data"
    }
   ],
   "source": [
    "#88. How to implement the Game of Life using numpy arrays?\n",
    "\n",
    "import matplotlib.pyplot as plt\n",
    "import matplotlib.animation as animation\n",
    "\n",
    "def update(frameNum, img, grid, N):\n",
    "    newGrid = grid.copy()\n",
    "    for i in range(N):\n",
    "        for j in range(N):\n",
    "            # Compute the sum of neighbors' states\n",
    "            total = int((grid[i, (j-1)%N] + grid[i, (j+1)%N] +\n",
    "                         grid[(i-1)%N, j] + grid[(i+1)%N, j] +\n",
    "                         grid[(i-1)%N, (j-1)%N] + grid[(i-1)%N, (j+1)%N] +\n",
    "                         grid[(i+1)%N, (j-1)%N] + grid[(i+1)%N, (j+1)%N]))\n",
    "            \n",
    "            # Apply the rules of the game\n",
    "            if grid[i, j] == 1:\n",
    "                if (total < 2) or (total > 3):\n",
    "                    newGrid[i, j] = 0\n",
    "            else:\n",
    "                if total == 3:\n",
    "                    newGrid[i, j] = 1\n",
    "    img.set_data(newGrid)\n",
    "    grid[:] = newGrid[:]\n",
    "    return img,\n",
    "\n",
    "# Set grid size\n",
    "N = 100\n",
    "# Set animation duration\n",
    "updateInterval = 50\n",
    "\n",
    "# Initialize grid\n",
    "grid = np.random.choice([0, 1], N*N, p=[0.2, 0.8]).reshape(N, N)\n",
    "\n",
    "# Set up the animation\n",
    "fig, ax = plt.subplots()\n",
    "img = ax.imshow(grid, interpolation='nearest')\n",
    "ani = animation.FuncAnimation(fig, update, fargs=(img, grid, N),\n",
    "                              frames=10,\n",
    "                              interval=updateInterval,\n",
    "                              save_count=50)\n",
    "\n",
    "plt.show()"
   ]
  },
  {
   "cell_type": "code",
   "execution_count": 40,
   "metadata": {},
   "outputs": [
    {
     "name": "stdout",
     "output_type": "stream",
     "text": [
      "Indices of the 3 largest values:\n",
      "[8 7 5]\n"
     ]
    }
   ],
   "source": [
    "#89. How to get the n largest values of an array\n",
    "\n",
    "\n",
    "def n_largest_values(arr, n):\n",
    "    # Find the indices of the n largest elements using partition\n",
    "    indices = np.argpartition(arr, -n)[-n:]\n",
    "    \n",
    "    # Sort the indices based on the corresponding values\n",
    "    sorted_indices = indices[np.argsort(arr[indices])]\n",
    "    \n",
    "    # Return the indices of the n largest values\n",
    "    return sorted_indices\n",
    "\n",
    "# Example usage\n",
    "arr = np.array([3, 1, 4, 1, 5, 9, 2, 6, 5])\n",
    "n = 3\n",
    "\n",
    "largest_indices = n_largest_values(arr, n)\n",
    "print(\"Indices of the {} largest values:\".format(n))\n",
    "print(largest_indices)"
   ]
  },
  {
   "cell_type": "code",
   "execution_count": 41,
   "metadata": {},
   "outputs": [
    {
     "name": "stdout",
     "output_type": "stream",
     "text": [
      "Cartesian product:\n",
      "[(1, 'a', True), (1, 'a', False), (1, 'b', True), (1, 'b', False), (1, 'c', True), (1, 'c', False), (2, 'a', True), (2, 'a', False), (2, 'b', True), (2, 'b', False), (2, 'c', True), (2, 'c', False)]\n"
     ]
    }
   ],
   "source": [
    "#90. Given an arbitrary number of vectors, build the cartesian product (every combinations of every item)\n",
    "from itertools import product\n",
    "\n",
    "def cartesian_product(*vectors):\n",
    "    # Generate the cartesian product of the input vectors\n",
    "    return list(product(*vectors))\n",
    "\n",
    "# Example usage\n",
    "v1 = [1, 2]\n",
    "v2 = ['a', 'b', 'c']\n",
    "v3 = [True, False]\n",
    "\n",
    "result = cartesian_product(v1, v2, v3)\n",
    "print(\"Cartesian product:\")\n",
    "print(result)"
   ]
  },
  {
   "cell_type": "code",
   "execution_count": 42,
   "metadata": {},
   "outputs": [
    {
     "name": "stdout",
     "output_type": "stream",
     "text": [
      "Regular array:\n",
      "[(1, 'John', 25) (2, 'Alice', 30) (3, 'Bob', 35)]\n",
      "\n",
      "Record array:\n",
      "[(1, 'John', 25) (2, 'Alice', 30) (3, 'Bob', 35)]\n"
     ]
    }
   ],
   "source": [
    "#91. How to create a record array from a regular array?\n",
    "\n",
    "\n",
    "# Regular array\n",
    "regular_array = np.array([(1, 'John', 25), (2, 'Alice', 30), (3, 'Bob', 35)],\n",
    "                         dtype=[('ID', int), ('Name', 'U10'), ('Age', int)])\n",
    "\n",
    "# Create a record array from the regular array\n",
    "record_array = np.rec.array(regular_array)\n",
    "\n",
    "print(\"Regular array:\")\n",
    "print(regular_array)\n",
    "\n",
    "print(\"\\nRecord array:\")\n",
    "print(record_array)"
   ]
  },
  {
   "cell_type": "code",
   "execution_count": 43,
   "metadata": {},
   "outputs": [
    {
     "name": "stdout",
     "output_type": "stream",
     "text": [
      "True\n",
      "True\n"
     ]
    }
   ],
   "source": [
    "#92. Consider a large vector Z, compute Z to the power of 3 using 3 different methods\n",
    "\n",
    "\n",
    "# Generate a large vector Z\n",
    "Z = np.random.rand(1000000)\n",
    "\n",
    "# Method 1: Using broadcasting\n",
    "Z_cubed_broadcasting = Z ** 3\n",
    "\n",
    "# Method 2: Using np.power function\n",
    "Z_cubed_np_power = np.power(Z, 3)\n",
    "\n",
    "# Method 3: Using a loop\n",
    "Z_cubed_loop = np.empty_like(Z)\n",
    "for i in range(len(Z)):\n",
    "    Z_cubed_loop[i] = Z[i] ** 3\n",
    "\n",
    "# Check if results are the same\n",
    "print(np.allclose(Z_cubed_broadcasting, Z_cubed_np_power))\n",
    "print(np.allclose(Z_cubed_broadcasting, Z_cubed_loop))"
   ]
  },
  {
   "cell_type": "code",
   "execution_count": 44,
   "metadata": {},
   "outputs": [
    {
     "name": "stdout",
     "output_type": "stream",
     "text": [
      "Rows of A containing elements of each row of B regardless of order:\n",
      "Row indices of A containing elements of row 0: []\n",
      "Row indices of A containing elements of row 1: []\n"
     ]
    }
   ],
   "source": [
    "#93. Consider two arrays A and B of shape (8,3) and (2,2). How to find rows of A that contain elements of each row of B regardless of the order of the elements in B?\n",
    "\n",
    "\n",
    "# Example arrays\n",
    "A = np.array([[1, 2, 3],\n",
    "              [4, 5, 6],\n",
    "              [7, 8, 9],\n",
    "              [2, 3, 1],\n",
    "              [5, 4, 6],\n",
    "              [8, 9, 7],\n",
    "              [3, 1, 2],\n",
    "              [6, 5, 4]])\n",
    "\n",
    "B = np.array([[2, 3],\n",
    "              [4, 5]])\n",
    "\n",
    "# Function to find rows of A containing elements of each row of B\n",
    "def find_rows_containing_elements(A, B):\n",
    "    result = []\n",
    "    for row_b in B:\n",
    "        contains_elements = np.all(np.isin(A, row_b).reshape(A.shape[0], -1), axis=1)\n",
    "        result.append(np.where(contains_elements)[0])\n",
    "    return result\n",
    "\n",
    "# Find rows of A containing elements of each row of B\n",
    "rows_containing_elements = find_rows_containing_elements(A, B)\n",
    "\n",
    "# Print the result\n",
    "print(\"Rows of A containing elements of each row of B regardless of order:\")\n",
    "for i, row_indices in enumerate(rows_containing_elements):\n",
    "    print(\"Row indices of A containing elements of row {}: {}\".format(i, row_indices))"
   ]
  },
  {
   "cell_type": "code",
   "execution_count": 45,
   "metadata": {},
   "outputs": [
    {
     "name": "stdout",
     "output_type": "stream",
     "text": [
      "Matrix:\n",
      "[[2 0 1]\n",
      " [2 1 2]\n",
      " [0 1 1]\n",
      " [2 2 1]\n",
      " [2 0 2]\n",
      " [0 1 1]\n",
      " [2 0 2]\n",
      " [1 2 2]\n",
      " [2 0 1]\n",
      " [2 1 2]]\n",
      "\n",
      "Rows with unequal values:\n",
      "[[2 0 1]\n",
      " [2 1 2]\n",
      " [0 1 1]\n",
      " [2 2 1]\n",
      " [2 0 2]\n",
      " [0 1 1]\n",
      " [2 0 2]\n",
      " [1 2 2]\n",
      " [2 0 1]\n",
      " [2 1 2]]\n"
     ]
    }
   ],
   "source": [
    "#94. Considering a 10x3 matrix, extract rows with unequal values (e.g. [2,2,3])\n",
    "\n",
    "\n",
    "# Create a 10x3 matrix (example)\n",
    "matrix = np.random.randint(0, 3, (10, 3))  # Generating random integers for example\n",
    "\n",
    "# Function to extract rows with unequal values\n",
    "def extract_rows_with_unequal_values(matrix):\n",
    "    unequal_rows = []\n",
    "    for row in matrix:\n",
    "        if len(np.unique(row)) > 1:\n",
    "            unequal_rows.append(row)\n",
    "    return np.array(unequal_rows)\n",
    "\n",
    "# Extract rows with unequal values\n",
    "unequal_rows = extract_rows_with_unequal_values(matrix)\n",
    "\n",
    "# Print the result\n",
    "print(\"Matrix:\")\n",
    "print(matrix)\n",
    "print(\"\\nRows with unequal values:\")\n",
    "print(unequal_rows)"
   ]
  },
  {
   "cell_type": "code",
   "execution_count": 46,
   "metadata": {},
   "outputs": [
    {
     "name": "stdout",
     "output_type": "stream",
     "text": [
      "Vector:\n",
      "[ 5  2  7 10]\n",
      "\n",
      "Binary matrix:\n",
      "[[0 1 0 1]\n",
      " [0 0 1 0]\n",
      " [0 1 1 1]\n",
      " [1 0 1 0]]\n"
     ]
    }
   ],
   "source": [
    "#95. Convert a vector of ints into a matrix binary representation\n",
    "\n",
    "\n",
    "# Example vector of integers\n",
    "vector = np.array([5, 2, 7, 10], dtype=np.uint8)  # Example integers\n",
    "\n",
    "# Determine the number of bits required to represent the maximum value in the vector\n",
    "num_bits = int(np.ceil(np.log2(np.max(vector) + 1)))\n",
    "\n",
    "# Convert each integer into its binary representation\n",
    "binary_matrix = np.unpackbits(vector[:, np.newaxis], axis=1)\n",
    "\n",
    "# Keep only the necessary bits (rightmost bits)\n",
    "binary_matrix = binary_matrix[:, -num_bits:]\n",
    "\n",
    "print(\"Vector:\")\n",
    "print(vector)\n",
    "print(\"\\nBinary matrix:\")\n",
    "print(binary_matrix)"
   ]
  },
  {
   "cell_type": "code",
   "execution_count": 47,
   "metadata": {},
   "outputs": [
    {
     "name": "stdout",
     "output_type": "stream",
     "text": [
      "Original array:\n",
      "[[1 2 3]\n",
      " [4 5 6]\n",
      " [1 2 3]\n",
      " [7 8 9]\n",
      " [4 5 6]]\n",
      "\n",
      "Unique rows:\n",
      "[[1 2 3]\n",
      " [4 5 6]\n",
      " [7 8 9]]\n"
     ]
    }
   ],
   "source": [
    "#96. Given a two dimensional array, how to extract unique rows?\n",
    "\n",
    "\n",
    "# Example two-dimensional array\n",
    "array = np.array([[1, 2, 3],\n",
    "                  [4, 5, 6],\n",
    "                  [1, 2, 3],\n",
    "                  [7, 8, 9],\n",
    "                  [4, 5, 6]])\n",
    "\n",
    "# Extract unique rows\n",
    "unique_rows = np.unique(array, axis=0)\n",
    "\n",
    "print(\"Original array:\")\n",
    "print(array)\n",
    "print(\"\\nUnique rows:\")\n",
    "print(unique_rows)"
   ]
  },
  {
   "cell_type": "code",
   "execution_count": 51,
   "metadata": {},
   "outputs": [
    {
     "name": "stdout",
     "output_type": "stream",
     "text": [
      "Equidistant samples:\n",
      "[(-1.9371294336139666, -1.7434164902525708), (-0.6107817187679707, -0.5497035468911733), (0.2920324172081907, 0.5840648344163814), (0.8333333333333335, 1.666666666666667), (1.4995123326113018, 2.499512332611302), (2.2212468874448255, 3.2212468874448255), (2.9429814422783487, 3.9429814422783487), (3.945907446610541, 4.945907446610541), (4.97295372330527, 5.97295372330527), (6.0, 7.0)]\n"
     ]
    }
   ],
   "source": [
    "#98. Considering a path described by two vectors (X,Y), how to sample it using equidistant samples\n",
    "\n",
    "\n",
    "def sample_equidistant_path(X, Y, num_samples):\n",
    "    # Compute the total length of the path\n",
    "    path_length = np.sum(np.sqrt(np.diff(X)**2 + np.diff(Y)**2))\n",
    "\n",
    "    # Compute the step size required to achieve equidistant sampling\n",
    "    step_size = path_length / (num_samples - 1)\n",
    "\n",
    "    # Compute cumulative distances along the path\n",
    "    cumulative_distances = np.cumsum(np.sqrt(np.diff(X)**2 + np.diff(Y)**2))\n",
    "\n",
    "    # Interpolate the path at equidistant intervals\n",
    "    equidistant_samples = []\n",
    "    for distance in np.linspace(0, path_length, num_samples):\n",
    "        # Find the indices where the cumulative distance exceeds the target distance\n",
    "        index = np.argmax(cumulative_distances >= distance)\n",
    "        \n",
    "        # Interpolate the X and Y coordinates at the corresponding index\n",
    "        if index < len(X) - 1:\n",
    "            t = (distance - cumulative_distances[index - 1]) / (cumulative_distances[index] - cumulative_distances[index - 1])\n",
    "            x = X[index - 1] + t * (X[index] - X[index - 1])\n",
    "            y = Y[index - 1] + t * (Y[index] - Y[index - 1])\n",
    "        else:\n",
    "            x = X[-1]\n",
    "            y = Y[-1]\n",
    "        \n",
    "        # Append the interpolated coordinates to the result\n",
    "        equidistant_samples.append((x, y))\n",
    "\n",
    "    return equidistant_samples\n",
    "\n",
    "# Example usage:\n",
    "X = np.array([0, 1, 3, 6, 10])\n",
    "Y = np.array([0, 2, 4, 7, 9])\n",
    "num_samples = 10\n",
    "samples = sample_equidistant_path(X, Y, num_samples)\n",
    "print(\"Equidistant samples:\")\n",
    "print(samples)"
   ]
  },
  {
   "cell_type": "code",
   "execution_count": 52,
   "metadata": {},
   "outputs": [
    {
     "name": "stdout",
     "output_type": "stream",
     "text": [
      "Rows from X representing multinomial draws with sum equal to 6 :\n",
      "[array([1, 2, 3])]\n"
     ]
    }
   ],
   "source": [
    "#99. Given an integer n and a 2D array X, select from X the rows which can be interpreted as draws from a multinomial distribution with n degrees, i.e., the rows which only contain integers and which sum to n.\n",
    "\n",
    "\n",
    "def select_multinomial_rows(X, n):\n",
    "    # Check if each row contains only integers and sum to n\n",
    "    valid_rows = [row for row in X if np.all(np.equal(np.mod(row, 1), 0)) and np.sum(row) == n]\n",
    "    return valid_rows\n",
    "\n",
    "# Example usage:\n",
    "X = np.array([[1, 2, 3], [2, 2, 3], [3, 3, 3], [1, 1, 1], [4, 5, 6]])\n",
    "n = 6\n",
    "selected_rows = select_multinomial_rows(X, n)\n",
    "print(\"Rows from X representing multinomial draws with sum equal to\", n, \":\")\n",
    "print(selected_rows)"
   ]
  },
  {
   "cell_type": "code",
   "execution_count": 53,
   "metadata": {},
   "outputs": [
    {
     "name": "stdout",
     "output_type": "stream",
     "text": [
      "Bootstrapped 95.0% confidence interval for the mean of X: [3.6, 7.3024999999999975]\n"
     ]
    }
   ],
   "source": [
    "#100. Compute bootstrapped 95% confidence intervals for the mean of a 1D array X (i.e., resample the elements of an array with replacement N times, compute the mean of each sample, and then compute percentiles over the means).\n",
    "\n",
    "\n",
    "def bootstrap_mean_confidence_interval(X, N, alpha=0.95):\n",
    "    means = []\n",
    "    n = len(X)\n",
    "    for _ in range(N):\n",
    "        # Resample with replacement\n",
    "        sample = np.random.choice(X, n, replace=True)\n",
    "        # Compute the mean of the resampled sample\n",
    "        mean = np.mean(sample)\n",
    "        means.append(mean)\n",
    "    # Compute confidence interval\n",
    "    lower_percentile = (1 - alpha) / 2 * 100\n",
    "    upper_percentile = (alpha + (1 - alpha) / 2) * 100\n",
    "    lower_bound = np.percentile(means, lower_percentile)\n",
    "    upper_bound = np.percentile(means, upper_percentile)\n",
    "    return lower_bound, upper_bound\n",
    "\n",
    "# Example usage:\n",
    "X = np.array([1, 2, 3, 4, 5, 6, 7, 8, 9, 10])\n",
    "N = 1000  \n",
    "alpha = 0.95  \n",
    "lower_bound, upper_bound = bootstrap_mean_confidence_interval(X, N, alpha)\n",
    "print(f\"Bootstrapped {alpha*100}% confidence interval for the mean of X: [{lower_bound}, {upper_bound}]\")"
   ]
  }
 ],
 "metadata": {
  "kernelspec": {
   "display_name": "datascience",
   "language": "python",
   "name": "python3"
  },
  "language_info": {
   "codemirror_mode": {
    "name": "ipython",
    "version": 3
   },
   "file_extension": ".py",
   "mimetype": "text/x-python",
   "name": "python",
   "nbconvert_exporter": "python",
   "pygments_lexer": "ipython3",
   "version": "3.8.18"
  }
 },
 "nbformat": 4,
 "nbformat_minor": 2
}
